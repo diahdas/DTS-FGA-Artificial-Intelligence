{
 "cells": [
  {
   "cell_type": "markdown",
   "metadata": {},
   "source": [
    "# Final Project: DB-SCAN Clustering"
   ]
  },
  {
   "cell_type": "markdown",
   "metadata": {},
   "source": [
    "### Group 5:\n",
    "- Diah Ayu Setyaningsih\n",
    "- I Nyoman Warsana\n",
    "- Iman Santoso"
   ]
  },
  {
   "cell_type": "markdown",
   "metadata": {},
   "source": [
    "## Membangkitkan Data"
   ]
  },
  {
   "cell_type": "code",
   "execution_count": 1,
   "metadata": {},
   "outputs": [],
   "source": [
    "import random\n",
    "import numpy as np\n",
    "from sklearn.datasets.samples_generator import make_blobs"
   ]
  },
  {
   "cell_type": "code",
   "execution_count": 3,
   "metadata": {},
   "outputs": [],
   "source": [
    "# membangkitkan data kluster dengan diketahui pusat kluster dan sebaran kluster\n",
    "data = make_blobs(n_samples=30, centers=[[2.8,40,0.75,0.8], [3.7,130,1.5,1.4], [4.8,175,2.6,2.3]], cluster_std = [0.2, 0.3, 0.1], random_state=0)\n",
    "dataset = data[0]\n"
   ]
  },
  {
   "cell_type": "code",
   "execution_count": 4,
   "metadata": {},
   "outputs": [
    {
     "data": {
      "text/html": [
       "<div>\n",
       "<style scoped>\n",
       "    .dataframe tbody tr th:only-of-type {\n",
       "        vertical-align: middle;\n",
       "    }\n",
       "\n",
       "    .dataframe tbody tr th {\n",
       "        vertical-align: top;\n",
       "    }\n",
       "\n",
       "    .dataframe thead th {\n",
       "        text-align: right;\n",
       "    }\n",
       "</style>\n",
       "<table border=\"1\" class=\"dataframe\">\n",
       "  <thead>\n",
       "    <tr style=\"text-align: right;\">\n",
       "      <th></th>\n",
       "      <th>Uang Saku</th>\n",
       "      <th>Uang Pakaian</th>\n",
       "      <th>Uang Makan</th>\n",
       "      <th>Uang Kamar Kos</th>\n",
       "    </tr>\n",
       "  </thead>\n",
       "  <tbody>\n",
       "    <tr>\n",
       "      <th>0</th>\n",
       "      <td>4.894725</td>\n",
       "      <td>174.984499</td>\n",
       "      <td>2.661408</td>\n",
       "      <td>2.392221</td>\n",
       "    </tr>\n",
       "    <tr>\n",
       "      <th>1</th>\n",
       "      <td>4.801050</td>\n",
       "      <td>175.178587</td>\n",
       "      <td>2.612691</td>\n",
       "      <td>2.340199</td>\n",
       "    </tr>\n",
       "    <tr>\n",
       "      <th>2</th>\n",
       "      <td>3.098816</td>\n",
       "      <td>39.958968</td>\n",
       "      <td>0.812614</td>\n",
       "      <td>0.629181</td>\n",
       "    </tr>\n",
       "    <tr>\n",
       "      <th>3</th>\n",
       "      <td>3.253951</td>\n",
       "      <td>39.709127</td>\n",
       "      <td>0.759152</td>\n",
       "      <td>0.762563</td>\n",
       "    </tr>\n",
       "    <tr>\n",
       "      <th>4</th>\n",
       "      <td>4.682688</td>\n",
       "      <td>175.194362</td>\n",
       "      <td>2.558638</td>\n",
       "      <td>2.225255</td>\n",
       "    </tr>\n",
       "    <tr>\n",
       "      <th>5</th>\n",
       "      <td>3.215831</td>\n",
       "      <td>129.936178</td>\n",
       "      <td>1.231360</td>\n",
       "      <td>1.516071</td>\n",
       "    </tr>\n",
       "    <tr>\n",
       "      <th>6</th>\n",
       "      <td>3.173512</td>\n",
       "      <td>39.804544</td>\n",
       "      <td>0.940018</td>\n",
       "      <td>0.769729</td>\n",
       "    </tr>\n",
       "    <tr>\n",
       "      <th>7</th>\n",
       "      <td>4.820827</td>\n",
       "      <td>175.097664</td>\n",
       "      <td>2.635637</td>\n",
       "      <td>2.370657</td>\n",
       "    </tr>\n",
       "    <tr>\n",
       "      <th>8</th>\n",
       "      <td>4.988315</td>\n",
       "      <td>174.865224</td>\n",
       "      <td>2.472952</td>\n",
       "      <td>2.396940</td>\n",
       "    </tr>\n",
       "    <tr>\n",
       "      <th>9</th>\n",
       "      <td>3.438761</td>\n",
       "      <td>129.826345</td>\n",
       "      <td>1.406534</td>\n",
       "      <td>1.416850</td>\n",
       "    </tr>\n",
       "    <tr>\n",
       "      <th>10</th>\n",
       "      <td>3.753228</td>\n",
       "      <td>129.879466</td>\n",
       "      <td>1.010940</td>\n",
       "      <td>1.538835</td>\n",
       "    </tr>\n",
       "    <tr>\n",
       "      <th>11</th>\n",
       "      <td>4.948825</td>\n",
       "      <td>175.189589</td>\n",
       "      <td>2.717878</td>\n",
       "      <td>2.282008</td>\n",
       "    </tr>\n",
       "    <tr>\n",
       "      <th>12</th>\n",
       "      <td>3.546758</td>\n",
       "      <td>129.645810</td>\n",
       "      <td>1.491545</td>\n",
       "      <td>1.528500</td>\n",
       "    </tr>\n",
       "    <tr>\n",
       "      <th>13</th>\n",
       "      <td>4.041820</td>\n",
       "      <td>129.629552</td>\n",
       "      <td>1.620702</td>\n",
       "      <td>1.194557</td>\n",
       "    </tr>\n",
       "    <tr>\n",
       "      <th>14</th>\n",
       "      <td>3.046058</td>\n",
       "      <td>40.240476</td>\n",
       "      <td>0.672535</td>\n",
       "      <td>0.739539</td>\n",
       "    </tr>\n",
       "    <tr>\n",
       "      <th>15</th>\n",
       "      <td>3.106556</td>\n",
       "      <td>40.293872</td>\n",
       "      <td>0.780989</td>\n",
       "      <td>0.875633</td>\n",
       "    </tr>\n",
       "    <tr>\n",
       "      <th>16</th>\n",
       "      <td>3.427810</td>\n",
       "      <td>130.015584</td>\n",
       "      <td>1.718727</td>\n",
       "      <td>1.438695</td>\n",
       "    </tr>\n",
       "    <tr>\n",
       "      <th>17</th>\n",
       "      <td>2.952208</td>\n",
       "      <td>40.024335</td>\n",
       "      <td>0.838773</td>\n",
       "      <td>0.866735</td>\n",
       "    </tr>\n",
       "    <tr>\n",
       "      <th>18</th>\n",
       "      <td>3.719955</td>\n",
       "      <td>130.090742</td>\n",
       "      <td>1.309703</td>\n",
       "      <td>1.291178</td>\n",
       "    </tr>\n",
       "    <tr>\n",
       "      <th>19</th>\n",
       "      <td>2.779356</td>\n",
       "      <td>40.082120</td>\n",
       "      <td>0.778809</td>\n",
       "      <td>1.090855</td>\n",
       "    </tr>\n",
       "    <tr>\n",
       "      <th>20</th>\n",
       "      <td>4.992294</td>\n",
       "      <td>175.148051</td>\n",
       "      <td>2.786756</td>\n",
       "      <td>2.390604</td>\n",
       "    </tr>\n",
       "    <tr>\n",
       "      <th>21</th>\n",
       "      <td>3.498262</td>\n",
       "      <td>129.892134</td>\n",
       "      <td>1.256056</td>\n",
       "      <td>0.882115</td>\n",
       "    </tr>\n",
       "    <tr>\n",
       "      <th>22</th>\n",
       "      <td>2.289402</td>\n",
       "      <td>40.130724</td>\n",
       "      <td>0.922887</td>\n",
       "      <td>0.651567</td>\n",
       "    </tr>\n",
       "    <tr>\n",
       "      <th>23</th>\n",
       "      <td>4.713877</td>\n",
       "      <td>175.191006</td>\n",
       "      <td>2.573200</td>\n",
       "      <td>2.380246</td>\n",
       "    </tr>\n",
       "    <tr>\n",
       "      <th>24</th>\n",
       "      <td>4.692925</td>\n",
       "      <td>175.105445</td>\n",
       "      <td>2.559682</td>\n",
       "      <td>2.422245</td>\n",
       "    </tr>\n",
       "    <tr>\n",
       "      <th>25</th>\n",
       "      <td>3.385434</td>\n",
       "      <td>129.573995</td>\n",
       "      <td>0.988119</td>\n",
       "      <td>1.985233</td>\n",
       "    </tr>\n",
       "    <tr>\n",
       "      <th>26</th>\n",
       "      <td>4.683485</td>\n",
       "      <td>175.090083</td>\n",
       "      <td>2.646566</td>\n",
       "      <td>2.146376</td>\n",
       "    </tr>\n",
       "    <tr>\n",
       "      <th>27</th>\n",
       "      <td>2.622443</td>\n",
       "      <td>39.603841</td>\n",
       "      <td>0.680418</td>\n",
       "      <td>0.831270</td>\n",
       "    </tr>\n",
       "    <tr>\n",
       "      <th>28</th>\n",
       "      <td>3.547104</td>\n",
       "      <td>129.868578</td>\n",
       "      <td>1.124161</td>\n",
       "      <td>1.633247</td>\n",
       "    </tr>\n",
       "    <tr>\n",
       "      <th>29</th>\n",
       "      <td>3.152810</td>\n",
       "      <td>40.080031</td>\n",
       "      <td>0.945748</td>\n",
       "      <td>1.248179</td>\n",
       "    </tr>\n",
       "  </tbody>\n",
       "</table>\n",
       "</div>"
      ],
      "text/plain": [
       "    Uang Saku  Uang Pakaian  Uang Makan  Uang Kamar Kos\n",
       "0    4.894725    174.984499    2.661408        2.392221\n",
       "1    4.801050    175.178587    2.612691        2.340199\n",
       "2    3.098816     39.958968    0.812614        0.629181\n",
       "3    3.253951     39.709127    0.759152        0.762563\n",
       "4    4.682688    175.194362    2.558638        2.225255\n",
       "5    3.215831    129.936178    1.231360        1.516071\n",
       "6    3.173512     39.804544    0.940018        0.769729\n",
       "7    4.820827    175.097664    2.635637        2.370657\n",
       "8    4.988315    174.865224    2.472952        2.396940\n",
       "9    3.438761    129.826345    1.406534        1.416850\n",
       "10   3.753228    129.879466    1.010940        1.538835\n",
       "11   4.948825    175.189589    2.717878        2.282008\n",
       "12   3.546758    129.645810    1.491545        1.528500\n",
       "13   4.041820    129.629552    1.620702        1.194557\n",
       "14   3.046058     40.240476    0.672535        0.739539\n",
       "15   3.106556     40.293872    0.780989        0.875633\n",
       "16   3.427810    130.015584    1.718727        1.438695\n",
       "17   2.952208     40.024335    0.838773        0.866735\n",
       "18   3.719955    130.090742    1.309703        1.291178\n",
       "19   2.779356     40.082120    0.778809        1.090855\n",
       "20   4.992294    175.148051    2.786756        2.390604\n",
       "21   3.498262    129.892134    1.256056        0.882115\n",
       "22   2.289402     40.130724    0.922887        0.651567\n",
       "23   4.713877    175.191006    2.573200        2.380246\n",
       "24   4.692925    175.105445    2.559682        2.422245\n",
       "25   3.385434    129.573995    0.988119        1.985233\n",
       "26   4.683485    175.090083    2.646566        2.146376\n",
       "27   2.622443     39.603841    0.680418        0.831270\n",
       "28   3.547104    129.868578    1.124161        1.633247\n",
       "29   3.152810     40.080031    0.945748        1.248179"
      ]
     },
     "execution_count": 4,
     "metadata": {},
     "output_type": "execute_result"
    }
   ],
   "source": [
    "#mengubah array ke pandas data frame\n",
    "import pandas as pd\n",
    "dataset = pd.DataFrame({'Uang Saku':dataset[:,0],'Uang Pakaian':dataset[:,1],'Uang Makan':dataset[:,2], 'Uang Kamar Kos':dataset[:,3]})\n",
    "dataset"
   ]
  },
  {
   "cell_type": "code",
   "execution_count": 5,
   "metadata": {},
   "outputs": [
    {
     "data": {
      "text/html": [
       "<div>\n",
       "<style scoped>\n",
       "    .dataframe tbody tr th:only-of-type {\n",
       "        vertical-align: middle;\n",
       "    }\n",
       "\n",
       "    .dataframe tbody tr th {\n",
       "        vertical-align: top;\n",
       "    }\n",
       "\n",
       "    .dataframe thead th {\n",
       "        text-align: right;\n",
       "    }\n",
       "</style>\n",
       "<table border=\"1\" class=\"dataframe\">\n",
       "  <thead>\n",
       "    <tr style=\"text-align: right;\">\n",
       "      <th></th>\n",
       "      <th>Uang Saku</th>\n",
       "      <th>Uang Pakaian</th>\n",
       "      <th>Uang Makan</th>\n",
       "      <th>Uang Kamar Kos</th>\n",
       "    </tr>\n",
       "  </thead>\n",
       "  <tbody>\n",
       "    <tr>\n",
       "      <th>0</th>\n",
       "      <td>4.9</td>\n",
       "      <td>175.0</td>\n",
       "      <td>2.7</td>\n",
       "      <td>2.4</td>\n",
       "    </tr>\n",
       "    <tr>\n",
       "      <th>1</th>\n",
       "      <td>4.8</td>\n",
       "      <td>175.2</td>\n",
       "      <td>2.6</td>\n",
       "      <td>2.3</td>\n",
       "    </tr>\n",
       "    <tr>\n",
       "      <th>2</th>\n",
       "      <td>3.1</td>\n",
       "      <td>40.0</td>\n",
       "      <td>0.8</td>\n",
       "      <td>0.6</td>\n",
       "    </tr>\n",
       "    <tr>\n",
       "      <th>3</th>\n",
       "      <td>3.3</td>\n",
       "      <td>39.7</td>\n",
       "      <td>0.8</td>\n",
       "      <td>0.8</td>\n",
       "    </tr>\n",
       "    <tr>\n",
       "      <th>4</th>\n",
       "      <td>4.7</td>\n",
       "      <td>175.2</td>\n",
       "      <td>2.6</td>\n",
       "      <td>2.2</td>\n",
       "    </tr>\n",
       "    <tr>\n",
       "      <th>5</th>\n",
       "      <td>3.2</td>\n",
       "      <td>129.9</td>\n",
       "      <td>1.2</td>\n",
       "      <td>1.5</td>\n",
       "    </tr>\n",
       "    <tr>\n",
       "      <th>6</th>\n",
       "      <td>3.2</td>\n",
       "      <td>39.8</td>\n",
       "      <td>0.9</td>\n",
       "      <td>0.8</td>\n",
       "    </tr>\n",
       "    <tr>\n",
       "      <th>7</th>\n",
       "      <td>4.8</td>\n",
       "      <td>175.1</td>\n",
       "      <td>2.6</td>\n",
       "      <td>2.4</td>\n",
       "    </tr>\n",
       "    <tr>\n",
       "      <th>8</th>\n",
       "      <td>5.0</td>\n",
       "      <td>174.9</td>\n",
       "      <td>2.5</td>\n",
       "      <td>2.4</td>\n",
       "    </tr>\n",
       "    <tr>\n",
       "      <th>9</th>\n",
       "      <td>3.4</td>\n",
       "      <td>129.8</td>\n",
       "      <td>1.4</td>\n",
       "      <td>1.4</td>\n",
       "    </tr>\n",
       "    <tr>\n",
       "      <th>10</th>\n",
       "      <td>3.8</td>\n",
       "      <td>129.9</td>\n",
       "      <td>1.0</td>\n",
       "      <td>1.5</td>\n",
       "    </tr>\n",
       "    <tr>\n",
       "      <th>11</th>\n",
       "      <td>4.9</td>\n",
       "      <td>175.2</td>\n",
       "      <td>2.7</td>\n",
       "      <td>2.3</td>\n",
       "    </tr>\n",
       "    <tr>\n",
       "      <th>12</th>\n",
       "      <td>3.5</td>\n",
       "      <td>129.6</td>\n",
       "      <td>1.5</td>\n",
       "      <td>1.5</td>\n",
       "    </tr>\n",
       "    <tr>\n",
       "      <th>13</th>\n",
       "      <td>4.0</td>\n",
       "      <td>129.6</td>\n",
       "      <td>1.6</td>\n",
       "      <td>1.2</td>\n",
       "    </tr>\n",
       "    <tr>\n",
       "      <th>14</th>\n",
       "      <td>3.0</td>\n",
       "      <td>40.2</td>\n",
       "      <td>0.7</td>\n",
       "      <td>0.7</td>\n",
       "    </tr>\n",
       "    <tr>\n",
       "      <th>15</th>\n",
       "      <td>3.1</td>\n",
       "      <td>40.3</td>\n",
       "      <td>0.8</td>\n",
       "      <td>0.9</td>\n",
       "    </tr>\n",
       "    <tr>\n",
       "      <th>16</th>\n",
       "      <td>3.4</td>\n",
       "      <td>130.0</td>\n",
       "      <td>1.7</td>\n",
       "      <td>1.4</td>\n",
       "    </tr>\n",
       "    <tr>\n",
       "      <th>17</th>\n",
       "      <td>3.0</td>\n",
       "      <td>40.0</td>\n",
       "      <td>0.8</td>\n",
       "      <td>0.9</td>\n",
       "    </tr>\n",
       "    <tr>\n",
       "      <th>18</th>\n",
       "      <td>3.7</td>\n",
       "      <td>130.1</td>\n",
       "      <td>1.3</td>\n",
       "      <td>1.3</td>\n",
       "    </tr>\n",
       "    <tr>\n",
       "      <th>19</th>\n",
       "      <td>2.8</td>\n",
       "      <td>40.1</td>\n",
       "      <td>0.8</td>\n",
       "      <td>1.1</td>\n",
       "    </tr>\n",
       "    <tr>\n",
       "      <th>20</th>\n",
       "      <td>5.0</td>\n",
       "      <td>175.1</td>\n",
       "      <td>2.8</td>\n",
       "      <td>2.4</td>\n",
       "    </tr>\n",
       "    <tr>\n",
       "      <th>21</th>\n",
       "      <td>3.5</td>\n",
       "      <td>129.9</td>\n",
       "      <td>1.3</td>\n",
       "      <td>0.9</td>\n",
       "    </tr>\n",
       "    <tr>\n",
       "      <th>22</th>\n",
       "      <td>2.3</td>\n",
       "      <td>40.1</td>\n",
       "      <td>0.9</td>\n",
       "      <td>0.7</td>\n",
       "    </tr>\n",
       "    <tr>\n",
       "      <th>23</th>\n",
       "      <td>4.7</td>\n",
       "      <td>175.2</td>\n",
       "      <td>2.6</td>\n",
       "      <td>2.4</td>\n",
       "    </tr>\n",
       "    <tr>\n",
       "      <th>24</th>\n",
       "      <td>4.7</td>\n",
       "      <td>175.1</td>\n",
       "      <td>2.6</td>\n",
       "      <td>2.4</td>\n",
       "    </tr>\n",
       "    <tr>\n",
       "      <th>25</th>\n",
       "      <td>3.4</td>\n",
       "      <td>129.6</td>\n",
       "      <td>1.0</td>\n",
       "      <td>2.0</td>\n",
       "    </tr>\n",
       "    <tr>\n",
       "      <th>26</th>\n",
       "      <td>4.7</td>\n",
       "      <td>175.1</td>\n",
       "      <td>2.6</td>\n",
       "      <td>2.1</td>\n",
       "    </tr>\n",
       "    <tr>\n",
       "      <th>27</th>\n",
       "      <td>2.6</td>\n",
       "      <td>39.6</td>\n",
       "      <td>0.7</td>\n",
       "      <td>0.8</td>\n",
       "    </tr>\n",
       "    <tr>\n",
       "      <th>28</th>\n",
       "      <td>3.5</td>\n",
       "      <td>129.9</td>\n",
       "      <td>1.1</td>\n",
       "      <td>1.6</td>\n",
       "    </tr>\n",
       "    <tr>\n",
       "      <th>29</th>\n",
       "      <td>3.2</td>\n",
       "      <td>40.1</td>\n",
       "      <td>0.9</td>\n",
       "      <td>1.2</td>\n",
       "    </tr>\n",
       "  </tbody>\n",
       "</table>\n",
       "</div>"
      ],
      "text/plain": [
       "    Uang Saku  Uang Pakaian  Uang Makan  Uang Kamar Kos\n",
       "0         4.9         175.0         2.7             2.4\n",
       "1         4.8         175.2         2.6             2.3\n",
       "2         3.1          40.0         0.8             0.6\n",
       "3         3.3          39.7         0.8             0.8\n",
       "4         4.7         175.2         2.6             2.2\n",
       "5         3.2         129.9         1.2             1.5\n",
       "6         3.2          39.8         0.9             0.8\n",
       "7         4.8         175.1         2.6             2.4\n",
       "8         5.0         174.9         2.5             2.4\n",
       "9         3.4         129.8         1.4             1.4\n",
       "10        3.8         129.9         1.0             1.5\n",
       "11        4.9         175.2         2.7             2.3\n",
       "12        3.5         129.6         1.5             1.5\n",
       "13        4.0         129.6         1.6             1.2\n",
       "14        3.0          40.2         0.7             0.7\n",
       "15        3.1          40.3         0.8             0.9\n",
       "16        3.4         130.0         1.7             1.4\n",
       "17        3.0          40.0         0.8             0.9\n",
       "18        3.7         130.1         1.3             1.3\n",
       "19        2.8          40.1         0.8             1.1\n",
       "20        5.0         175.1         2.8             2.4\n",
       "21        3.5         129.9         1.3             0.9\n",
       "22        2.3          40.1         0.9             0.7\n",
       "23        4.7         175.2         2.6             2.4\n",
       "24        4.7         175.1         2.6             2.4\n",
       "25        3.4         129.6         1.0             2.0\n",
       "26        4.7         175.1         2.6             2.1\n",
       "27        2.6          39.6         0.7             0.8\n",
       "28        3.5         129.9         1.1             1.6\n",
       "29        3.2          40.1         0.9             1.2"
      ]
     },
     "execution_count": 5,
     "metadata": {},
     "output_type": "execute_result"
    }
   ],
   "source": [
    "# membulatkan nilai data ke satu desimal terdekat\n",
    "dataset = dataset.round(1)\n",
    "dataset"
   ]
  },
  {
   "cell_type": "code",
   "execution_count": 6,
   "metadata": {},
   "outputs": [
    {
     "data": {
      "text/html": [
       "<div>\n",
       "<style scoped>\n",
       "    .dataframe tbody tr th:only-of-type {\n",
       "        vertical-align: middle;\n",
       "    }\n",
       "\n",
       "    .dataframe tbody tr th {\n",
       "        vertical-align: top;\n",
       "    }\n",
       "\n",
       "    .dataframe thead th {\n",
       "        text-align: right;\n",
       "    }\n",
       "</style>\n",
       "<table border=\"1\" class=\"dataframe\">\n",
       "  <thead>\n",
       "    <tr style=\"text-align: right;\">\n",
       "      <th></th>\n",
       "      <th>Uang Saku</th>\n",
       "      <th>Uang Pakaian</th>\n",
       "      <th>Uang Makan</th>\n",
       "      <th>Uang Kamar Kos</th>\n",
       "    </tr>\n",
       "  </thead>\n",
       "  <tbody>\n",
       "    <tr>\n",
       "      <th>count</th>\n",
       "      <td>30.000000</td>\n",
       "      <td>30.000000</td>\n",
       "      <td>30.000000</td>\n",
       "      <td>30.000000</td>\n",
       "    </tr>\n",
       "    <tr>\n",
       "      <th>mean</th>\n",
       "      <td>3.773333</td>\n",
       "      <td>114.976667</td>\n",
       "      <td>1.583333</td>\n",
       "      <td>1.536667</td>\n",
       "    </tr>\n",
       "    <tr>\n",
       "      <th>std</th>\n",
       "      <td>0.822080</td>\n",
       "      <td>57.113684</td>\n",
       "      <td>0.794847</td>\n",
       "      <td>0.649925</td>\n",
       "    </tr>\n",
       "    <tr>\n",
       "      <th>min</th>\n",
       "      <td>2.300000</td>\n",
       "      <td>39.600000</td>\n",
       "      <td>0.700000</td>\n",
       "      <td>0.600000</td>\n",
       "    </tr>\n",
       "    <tr>\n",
       "      <th>25%</th>\n",
       "      <td>3.200000</td>\n",
       "      <td>40.125000</td>\n",
       "      <td>0.900000</td>\n",
       "      <td>0.900000</td>\n",
       "    </tr>\n",
       "    <tr>\n",
       "      <th>50%</th>\n",
       "      <td>3.500000</td>\n",
       "      <td>129.900000</td>\n",
       "      <td>1.300000</td>\n",
       "      <td>1.450000</td>\n",
       "    </tr>\n",
       "    <tr>\n",
       "      <th>75%</th>\n",
       "      <td>4.700000</td>\n",
       "      <td>175.075000</td>\n",
       "      <td>2.600000</td>\n",
       "      <td>2.275000</td>\n",
       "    </tr>\n",
       "    <tr>\n",
       "      <th>max</th>\n",
       "      <td>5.000000</td>\n",
       "      <td>175.200000</td>\n",
       "      <td>2.800000</td>\n",
       "      <td>2.400000</td>\n",
       "    </tr>\n",
       "  </tbody>\n",
       "</table>\n",
       "</div>"
      ],
      "text/plain": [
       "       Uang Saku  Uang Pakaian  Uang Makan  Uang Kamar Kos\n",
       "count  30.000000     30.000000   30.000000       30.000000\n",
       "mean    3.773333    114.976667    1.583333        1.536667\n",
       "std     0.822080     57.113684    0.794847        0.649925\n",
       "min     2.300000     39.600000    0.700000        0.600000\n",
       "25%     3.200000     40.125000    0.900000        0.900000\n",
       "50%     3.500000    129.900000    1.300000        1.450000\n",
       "75%     4.700000    175.075000    2.600000        2.275000\n",
       "max     5.000000    175.200000    2.800000        2.400000"
      ]
     },
     "execution_count": 6,
     "metadata": {},
     "output_type": "execute_result"
    }
   ],
   "source": [
    "dataset.describe()"
   ]
  },
  {
   "cell_type": "markdown",
   "metadata": {},
   "source": [
    "Dari deskriptif statistik di atas dapat dilihat bahwa data yang dibangkitkan memiliki fitur uang saku dengan range 2,3 juta sampai 5 juta. Kemudian uang pakaian memiliki range 39,6 ribu sampai 175,2 ribu, uang makan memiliki range 0,7 juta sampai 2,8 juta, serta uang kamar kos memiliki range 0,6 juta sampai 2,4 juta."
   ]
  },
  {
   "cell_type": "markdown",
   "metadata": {},
   "source": [
    "## Data Preprocessing"
   ]
  },
  {
   "cell_type": "code",
   "execution_count": 7,
   "metadata": {},
   "outputs": [],
   "source": [
    "#standarisasi\n",
    "from sklearn.preprocessing import StandardScaler\n",
    "dataset_std = StandardScaler().fit_transform(dataset)"
   ]
  },
  {
   "cell_type": "markdown",
   "metadata": {},
   "source": [
    "## DB-SCAN Clustering"
   ]
  },
  {
   "cell_type": "markdown",
   "metadata": {},
   "source": [
    "### 1. Menentukan Nilai Eps"
   ]
  },
  {
   "cell_type": "code",
   "execution_count": 8,
   "metadata": {},
   "outputs": [],
   "source": [
    "#menghitung jarak 2 titik terdekat\n",
    "from sklearn.neighbors import NearestNeighbors\n",
    "neigh = NearestNeighbors(n_neighbors=2)\n",
    "nbrs = neigh.fit(dataset_std)\n",
    "distances, indices = nbrs.kneighbors(dataset_std)\n",
    "distances_1 = distances[:,1]"
   ]
  },
  {
   "cell_type": "code",
   "execution_count": 10,
   "metadata": {},
   "outputs": [
    {
     "data": {
      "text/plain": [
       "Text(0.5, 0, 'Jarak antar dua titik terdekat')"
      ]
     },
     "execution_count": 10,
     "metadata": {},
     "output_type": "execute_result"
    },
    {
     "data": {
      "image/png": "[encoded data removed]",
      "text/plain": [
       "<Figure size 576x360 with 1 Axes>"
      ]
     },
     "metadata": {
      "needs_background": "light"
     },
     "output_type": "display_data"
    }
   ],
   "source": [
    "import matplotlib.pyplot as plt\n",
    "\n",
    "count, bin_edges = np.histogram(distances_1)\n",
    "distances_1 = pd.DataFrame(distances_1)\n",
    "distances_1.plot(kind='hist', figsize=(8, 5), xticks=bin_edges)\n",
    "plt.ylabel('Frekuensi')\n",
    "plt.xlabel('Jarak antar dua titik terdekat')"
   ]
  },
  {
   "cell_type": "markdown",
   "metadata": {},
   "source": [
    "Dari hasil di atas dapat dilihat bahwa sebagian besar jarak antar dua titik terdekat adalah kurang dari 0,5389 dan ada 3 pasang titik yang memiliki jarak diantara 0,5389 dan 0,6731. Di sini kami menduga bahwa ketiga titik itu adalah outlier/noise. Namun, tidak menutup kemungkinan bahwa tidak terdapat outlier/noise dalam data tersebut. Oleh karena itu, akan dilihat bagaimana hasil clustering untuk eps 0,54 dan 0,68"
   ]
  },
  {
   "cell_type": "markdown",
   "metadata": {},
   "source": [
    "### 2. Menentukan Nilai MinEps"
   ]
  },
  {
   "cell_type": "markdown",
   "metadata": {},
   "source": [
    "#### 1) untuk eps = 0,54"
   ]
  },
  {
   "cell_type": "code",
   "execution_count": 11,
   "metadata": {},
   "outputs": [],
   "source": [
    "from sklearn.neighbors import KDTree\n",
    "tree = KDTree(dataset_std)\n",
    "num_neigh_1=tree.query_radius(dataset_std, r=0.54, count_only=True)"
   ]
  },
  {
   "cell_type": "code",
   "execution_count": 12,
   "metadata": {},
   "outputs": [
    {
     "data": {
      "text/plain": [
       "<matplotlib.axes._subplots.AxesSubplot at 0x17d6f26d1d0>"
      ]
     },
     "execution_count": 12,
     "metadata": {},
     "output_type": "execute_result"
    },
    {
     "data": {
      "image/png": "[encoded data removed]",
      "text/plain": [
       "<Figure size 576x360 with 1 Axes>"
      ]
     },
     "metadata": {
      "needs_background": "light"
     },
     "output_type": "display_data"
    }
   ],
   "source": [
    "count, bin_edges = np.histogram(num_neigh_1)\n",
    "num_neigh_1 = pd.DataFrame(num_neigh_1)\n",
    "num_neigh_1.plot(kind='hist', figsize=(8, 5), xticks=bin_edges)"
   ]
  },
  {
   "cell_type": "markdown",
   "metadata": {},
   "source": [
    "Dari histogram dapat dilihat bahwa untuk eps sebesar 0,54, titik dengan tetangga sebanyak 1 ada 3 titik, kemudian titik dengan tetangga 2  ada 1 titik dan seterusnya relatif semakin meningkat ketika banyaknya tetangga semakin naik sehingga dipilih minpts sebesar 2."
   ]
  },
  {
   "cell_type": "markdown",
   "metadata": {},
   "source": [
    "#### 2) untuk eps=0,68"
   ]
  },
  {
   "cell_type": "code",
   "execution_count": 13,
   "metadata": {},
   "outputs": [],
   "source": [
    "from sklearn.neighbors import KDTree\n",
    "tree = KDTree(dataset_std)\n",
    "num_neigh_2=tree.query_radius(dataset_std, r=0.68, count_only=True)"
   ]
  },
  {
   "cell_type": "code",
   "execution_count": 14,
   "metadata": {},
   "outputs": [
    {
     "data": {
      "text/plain": [
       "<matplotlib.axes._subplots.AxesSubplot at 0x17d6f573ba8>"
      ]
     },
     "execution_count": 14,
     "metadata": {},
     "output_type": "execute_result"
    },
    {
     "data": {
      "image/png": "[encoded data removed]",
      "text/plain": [
       "<Figure size 576x360 with 1 Axes>"
      ]
     },
     "metadata": {
      "needs_background": "light"
     },
     "output_type": "display_data"
    }
   ],
   "source": [
    "count, bin_edges = np.histogram(num_neigh_2)\n",
    "num_neigh_2 = pd.DataFrame(num_neigh_2)\n",
    "num_neigh_2.plot(kind='hist', figsize=(8, 5), xticks=bin_edges)"
   ]
  },
  {
   "cell_type": "markdown",
   "metadata": {},
   "source": [
    "Dari histogram dapat dilihat bahwa untuk eps sebesar 0,68, titik dengan tetangga sebanyak 2 ada 4 titik, kemudian titik dengan tetangga 3 ada 1 titik, kemudian titik dengan tetangga 4 dan 5 masing masing 2 dan 1 titik dan seterusnya relatif meningkat ketika banyaknya tetangga semakin naik sehingga dipilih minpts sebesar 5."
   ]
  },
  {
   "cell_type": "markdown",
   "metadata": {},
   "source": [
    "### 3. DBSCAN"
   ]
  },
  {
   "cell_type": "markdown",
   "metadata": {},
   "source": [
    "#### 1) untuk eps = 0,54 dan minpts = 2"
   ]
  },
  {
   "cell_type": "code",
   "execution_count": 15,
   "metadata": {},
   "outputs": [],
   "source": [
    "from sklearn.cluster import DBSCAN\n",
    "dbscan_1 = DBSCAN(eps=0.54, min_samples = 2)\n",
    "clusters_1 = dbscan_1.fit_predict(dataset_std)"
   ]
  },
  {
   "cell_type": "markdown",
   "metadata": {},
   "source": [
    "#### 2) untuk eps = 0,68 dan minpts = 5"
   ]
  },
  {
   "cell_type": "code",
   "execution_count": 16,
   "metadata": {},
   "outputs": [],
   "source": [
    "from sklearn.cluster import DBSCAN\n",
    "dbscan_2 = DBSCAN(eps=0.68, min_samples = 5)\n",
    "clusters_2 = dbscan_2.fit_predict(dataset_std)"
   ]
  },
  {
   "cell_type": "markdown",
   "metadata": {},
   "source": [
    "### 4. Evaluasi Model"
   ]
  },
  {
   "cell_type": "code",
   "execution_count": 17,
   "metadata": {},
   "outputs": [
    {
     "name": "stdout",
     "output_type": "stream",
     "text": [
      "Untuk pengklusteran DBSCAN dengan eps sebesar 0,54 dan minpts sebesar 2 diperoleh silhouette score sebesar 0.5923198628444298\n",
      "Untuk pengklusteran DBSCAN dengan eps sebesar 0,68 dan minpts sebesar 5 diperoleh silhouette score sebesar 0.7447687086594996\n"
     ]
    }
   ],
   "source": [
    "from sklearn.metrics import silhouette_score\n",
    "\n",
    "#untuk eps = 0,54 dan minpts = 2\n",
    "score_model_1 = silhouette_score(dataset_std,clusters_1)\n",
    "print(\"Untuk pengklusteran DBSCAN dengan eps sebesar 0,54 dan minpts sebesar 2 diperoleh silhouette score sebesar\",\n",
    "      score_model_1)\n",
    "\n",
    "#untuk eps = 0,68 dan minpts = 5\n",
    "score_model_2 = silhouette_score(dataset_std,clusters_2)\n",
    "print(\"Untuk pengklusteran DBSCAN dengan eps sebesar 0,68 dan minpts sebesar 5 diperoleh silhouette score sebesar\",\n",
    "      score_model_2)"
   ]
  },
  {
   "cell_type": "markdown",
   "metadata": {},
   "source": [
    "Dari hasil di atas dapat dilihat bahwa nilai silhouette score untuk pengklusteran DBSCAN dengan eps 0,68 dan minpts 5 lebih baik dari pada pengklusteran DBSCAN dengan eps 0,54 dan minpts 2 sehingga akan digunakan hasil pengklusteran DBSCAN dengan eps 0,68 dan minpts 0,5 tersebut."
   ]
  },
  {
   "cell_type": "markdown",
   "metadata": {},
   "source": [
    "## Hasil Kluster"
   ]
  },
  {
   "cell_type": "code",
   "execution_count": 18,
   "metadata": {},
   "outputs": [
    {
     "data": {
      "text/plain": [
       "3"
      ]
     },
     "execution_count": 18,
     "metadata": {},
     "output_type": "execute_result"
    }
   ],
   "source": [
    "# Banyaknya kluster yang terbentuk\n",
    "n_clusters = len(set(clusters_2)) - (1 if -1 in clusters_2 else 0)\n",
    "n_clusters"
   ]
  },
  {
   "cell_type": "code",
   "execution_count": 19,
   "metadata": {},
   "outputs": [
    {
     "data": {
      "text/plain": [
       "2    10\n",
       "1    10\n",
       "0    10\n",
       "dtype: int64"
      ]
     },
     "execution_count": 19,
     "metadata": {},
     "output_type": "execute_result"
    }
   ],
   "source": [
    "pd.Series(clusters_2).value_counts()"
   ]
  },
  {
   "cell_type": "markdown",
   "metadata": {},
   "source": [
    "## Visualisasi"
   ]
  },
  {
   "cell_type": "markdown",
   "metadata": {},
   "source": [
    "Fitur yang digunakan dalam analisis ini ada sebanyak 4 sehingga agak sulit untuk menggambarkan plotnya. Oleh karena itu, dilakukan PCA sehingga dari 4 fitur tadi dapat diekstrak menjadi 2 fitur untuk memudahkan dalam visualisasi plot."
   ]
  },
  {
   "cell_type": "markdown",
   "metadata": {},
   "source": [
    "### 1. PCA"
   ]
  },
  {
   "cell_type": "code",
   "execution_count": 20,
   "metadata": {
    "scrolled": true
   },
   "outputs": [
    {
     "data": {
      "text/plain": [
       "array([[ 2.62350065, -0.2397157 ],\n",
       "       [ 2.42036155, -0.15471478],\n",
       "       [-2.31574665, -0.43716464],\n",
       "       [-2.03738827, -0.49096396],\n",
       "       [ 2.2798638 , -0.12974685],\n",
       "       [-0.50098455,  0.73859422],\n",
       "       [-2.0343059 , -0.48806517],\n",
       "       [ 2.49778416, -0.1219022 ],\n",
       "       [ 2.55601885, -0.18515713],\n",
       "       [-0.32697418,  0.47015466],\n",
       "       [-0.25660684,  0.49909903],\n",
       "       [ 2.54695707, -0.27124045],\n",
       "       [-0.12383508,  0.38515373],\n",
       "       [ 0.01663988, -0.06994639],\n",
       "       [-2.36228246, -0.28396293],\n",
       "       [-2.0782046 , -0.33099999],\n",
       "       [-0.13201782,  0.30035824],\n",
       "       [-2.1430378 , -0.27579514],\n",
       "       [-0.28044987,  0.32017014],\n",
       "       [-2.10994766, -0.08816989],\n",
       "       [ 2.75097521, -0.35495355],\n",
       "       [-0.71980672,  0.29932955],\n",
       "       [-2.6697353 ,  0.01331276],\n",
       "       [ 2.4364671 , -0.06154606],\n",
       "       [ 2.43558806, -0.06283389],\n",
       "       [-0.11652009,  0.9020108 ],\n",
       "       [ 2.20068312, -0.16513507],\n",
       "       [-2.53803941, -0.0213162 ],\n",
       "       [-0.30049405,  0.65294702],\n",
       "       [-1.7184622 , -0.34780013]])"
      ]
     },
     "execution_count": 20,
     "metadata": {},
     "output_type": "execute_result"
    }
   ],
   "source": [
    "from sklearn.decomposition import PCA as sklearnPCA\n",
    "sklearn_pca = sklearnPCA(n_components=2)\n",
    "dataset_pca = sklearn_pca.fit_transform(dataset_std)\n",
    "dataset_pca"
   ]
  },
  {
   "cell_type": "markdown",
   "metadata": {},
   "source": [
    "### 2. Visualisasi Hasil Kluster"
   ]
  },
  {
   "cell_type": "code",
   "execution_count": 21,
   "metadata": {},
   "outputs": [
    {
     "data": {
      "image/png": "[encoded data removed]",
      "text/plain": [
       "<Figure size 432x288 with 1 Axes>"
      ]
     },
     "metadata": {
      "needs_background": "light"
     },
     "output_type": "display_data"
    }
   ],
   "source": [
    "import matplotlib.pyplot as plt\n",
    "colors = [\"blue\", \"red\", \"orange\"]\n",
    "target_names = [\"kluster 0\", \"kluster 1\", \"kluster 2\"]\n",
    "\n",
    "for color, i, target_name in zip(colors, [0,1,2], target_names):\n",
    "    plt.scatter(dataset_pca[clusters_2==i,0], dataset_pca[clusters_2==i, 1], color=color,\n",
    "               label=target_name)\n",
    "plt.legend(loc=\"best\", shadow=False, scatterpoints=1)\n",
    "plt.xlabel('Principal Component 1')\n",
    "plt.ylabel('Principal Component 2')\n",
    "plt.show()"
   ]
  },
  {
   "cell_type": "markdown",
   "metadata": {},
   "source": [
    "## Mengidentifikasi Karakteristik Kluster"
   ]
  },
  {
   "cell_type": "markdown",
   "metadata": {},
   "source": [
    "### - Untuk Variabel Uang Saku dan Uang Pakaian"
   ]
  },
  {
   "cell_type": "code",
   "execution_count": 22,
   "metadata": {
    "scrolled": true
   },
   "outputs": [
    {
     "data": {
      "image/png": "[encoded data removed]",
      "text/plain": [
       "<Figure size 432x288 with 1 Axes>"
      ]
     },
     "metadata": {
      "needs_background": "light"
     },
     "output_type": "display_data"
    }
   ],
   "source": [
    "for color, i, target_name in zip(colors, [0,1,2], target_names):\n",
    "    plt.scatter(dataset.iloc[clusters_2==i,0], dataset.iloc[clusters_2==i, 1], color=color,\n",
    "               label=target_name)\n",
    "plt.legend(loc=\"best\")\n",
    "plt.xlabel('Uang Saku')\n",
    "plt.ylabel('Uang Pakaian')\n",
    "plt.show()"
   ]
  },
  {
   "cell_type": "markdown",
   "metadata": {},
   "source": [
    "Dari plot di atas dapat dilihat bahwa mahasiswa pada kluster 0 memiliki uang saku dan uang pakaian yg relatif lebih tinggi. Kemudian, kluster 1 memiliki uang saku dan uang pakaian yg relatif lebih rendah. Terakhir, mahasiswa pada kluster 2 memiliki uang saku dan uang pakaian yg yang berada di antara kluster 0 dan kluster 1 atau dapat dikatakan sedang."
   ]
  },
  {
   "cell_type": "markdown",
   "metadata": {},
   "source": [
    "### - Untuk Variabel Uang Makan dan Uang Kamar Kos"
   ]
  },
  {
   "cell_type": "code",
   "execution_count": 23,
   "metadata": {},
   "outputs": [
    {
     "data": {
      "image/png": "[encoded data removed]",
      "text/plain": [
       "<Figure size 432x288 with 1 Axes>"
      ]
     },
     "metadata": {
      "needs_background": "light"
     },
     "output_type": "display_data"
    }
   ],
   "source": [
    "for color, i, target_name in zip(colors, [0,1,2], target_names):\n",
    "    plt.scatter(dataset.iloc[clusters_2==i,2], dataset.iloc[clusters_2==i, 3], color=color,\n",
    "               label=target_name)\n",
    "plt.legend(loc=\"best\")\n",
    "plt.xlabel('Uang Makan')\n",
    "plt.ylabel('Uang Kamar Kos')\n",
    "plt.show()"
   ]
  },
  {
   "cell_type": "markdown",
   "metadata": {},
   "source": [
    "Dari plot di atas dapat dilihat bahwa mahasiswa pada kluster 0 memiliki uang makan dan uang kamar kos yg relatif lebih tinggi. Kemudian, kluster 1 memiliki uang makan dan uang kamar kos yg relatif lebih rendah. Terakhir, mahasiswa pada kluster 2 memiliki uang makan dan uang kamar kos yg yang berada di antara kluster 0 dan kluster 1 atau dapat dikatakan sedang."
   ]
  },
  {
   "cell_type": "code",
   "execution_count": 24,
   "metadata": {},
   "outputs": [
    {
     "data": {
      "text/html": [
       "<div>\n",
       "<style scoped>\n",
       "    .dataframe tbody tr th:only-of-type {\n",
       "        vertical-align: middle;\n",
       "    }\n",
       "\n",
       "    .dataframe tbody tr th {\n",
       "        vertical-align: top;\n",
       "    }\n",
       "\n",
       "    .dataframe thead th {\n",
       "        text-align: right;\n",
       "    }\n",
       "</style>\n",
       "<table border=\"1\" class=\"dataframe\">\n",
       "  <thead>\n",
       "    <tr style=\"text-align: right;\">\n",
       "      <th></th>\n",
       "      <th>Uang Saku</th>\n",
       "      <th>Uang Pakaian</th>\n",
       "      <th>Uang Makan</th>\n",
       "      <th>Uang Kamar Kos</th>\n",
       "      <th>Kluster</th>\n",
       "    </tr>\n",
       "  </thead>\n",
       "  <tbody>\n",
       "    <tr>\n",
       "      <th>0</th>\n",
       "      <td>4.9</td>\n",
       "      <td>175.0</td>\n",
       "      <td>2.7</td>\n",
       "      <td>2.4</td>\n",
       "      <td>0</td>\n",
       "    </tr>\n",
       "    <tr>\n",
       "      <th>1</th>\n",
       "      <td>4.8</td>\n",
       "      <td>175.2</td>\n",
       "      <td>2.6</td>\n",
       "      <td>2.3</td>\n",
       "      <td>0</td>\n",
       "    </tr>\n",
       "    <tr>\n",
       "      <th>2</th>\n",
       "      <td>3.1</td>\n",
       "      <td>40.0</td>\n",
       "      <td>0.8</td>\n",
       "      <td>0.6</td>\n",
       "      <td>1</td>\n",
       "    </tr>\n",
       "    <tr>\n",
       "      <th>3</th>\n",
       "      <td>3.3</td>\n",
       "      <td>39.7</td>\n",
       "      <td>0.8</td>\n",
       "      <td>0.8</td>\n",
       "      <td>1</td>\n",
       "    </tr>\n",
       "    <tr>\n",
       "      <th>4</th>\n",
       "      <td>4.7</td>\n",
       "      <td>175.2</td>\n",
       "      <td>2.6</td>\n",
       "      <td>2.2</td>\n",
       "      <td>0</td>\n",
       "    </tr>\n",
       "    <tr>\n",
       "      <th>5</th>\n",
       "      <td>3.2</td>\n",
       "      <td>129.9</td>\n",
       "      <td>1.2</td>\n",
       "      <td>1.5</td>\n",
       "      <td>2</td>\n",
       "    </tr>\n",
       "    <tr>\n",
       "      <th>6</th>\n",
       "      <td>3.2</td>\n",
       "      <td>39.8</td>\n",
       "      <td>0.9</td>\n",
       "      <td>0.8</td>\n",
       "      <td>1</td>\n",
       "    </tr>\n",
       "    <tr>\n",
       "      <th>7</th>\n",
       "      <td>4.8</td>\n",
       "      <td>175.1</td>\n",
       "      <td>2.6</td>\n",
       "      <td>2.4</td>\n",
       "      <td>0</td>\n",
       "    </tr>\n",
       "    <tr>\n",
       "      <th>8</th>\n",
       "      <td>5.0</td>\n",
       "      <td>174.9</td>\n",
       "      <td>2.5</td>\n",
       "      <td>2.4</td>\n",
       "      <td>0</td>\n",
       "    </tr>\n",
       "    <tr>\n",
       "      <th>9</th>\n",
       "      <td>3.4</td>\n",
       "      <td>129.8</td>\n",
       "      <td>1.4</td>\n",
       "      <td>1.4</td>\n",
       "      <td>2</td>\n",
       "    </tr>\n",
       "    <tr>\n",
       "      <th>10</th>\n",
       "      <td>3.8</td>\n",
       "      <td>129.9</td>\n",
       "      <td>1.0</td>\n",
       "      <td>1.5</td>\n",
       "      <td>2</td>\n",
       "    </tr>\n",
       "    <tr>\n",
       "      <th>11</th>\n",
       "      <td>4.9</td>\n",
       "      <td>175.2</td>\n",
       "      <td>2.7</td>\n",
       "      <td>2.3</td>\n",
       "      <td>0</td>\n",
       "    </tr>\n",
       "    <tr>\n",
       "      <th>12</th>\n",
       "      <td>3.5</td>\n",
       "      <td>129.6</td>\n",
       "      <td>1.5</td>\n",
       "      <td>1.5</td>\n",
       "      <td>2</td>\n",
       "    </tr>\n",
       "    <tr>\n",
       "      <th>13</th>\n",
       "      <td>4.0</td>\n",
       "      <td>129.6</td>\n",
       "      <td>1.6</td>\n",
       "      <td>1.2</td>\n",
       "      <td>2</td>\n",
       "    </tr>\n",
       "    <tr>\n",
       "      <th>14</th>\n",
       "      <td>3.0</td>\n",
       "      <td>40.2</td>\n",
       "      <td>0.7</td>\n",
       "      <td>0.7</td>\n",
       "      <td>1</td>\n",
       "    </tr>\n",
       "    <tr>\n",
       "      <th>15</th>\n",
       "      <td>3.1</td>\n",
       "      <td>40.3</td>\n",
       "      <td>0.8</td>\n",
       "      <td>0.9</td>\n",
       "      <td>1</td>\n",
       "    </tr>\n",
       "    <tr>\n",
       "      <th>16</th>\n",
       "      <td>3.4</td>\n",
       "      <td>130.0</td>\n",
       "      <td>1.7</td>\n",
       "      <td>1.4</td>\n",
       "      <td>2</td>\n",
       "    </tr>\n",
       "    <tr>\n",
       "      <th>17</th>\n",
       "      <td>3.0</td>\n",
       "      <td>40.0</td>\n",
       "      <td>0.8</td>\n",
       "      <td>0.9</td>\n",
       "      <td>1</td>\n",
       "    </tr>\n",
       "    <tr>\n",
       "      <th>18</th>\n",
       "      <td>3.7</td>\n",
       "      <td>130.1</td>\n",
       "      <td>1.3</td>\n",
       "      <td>1.3</td>\n",
       "      <td>2</td>\n",
       "    </tr>\n",
       "    <tr>\n",
       "      <th>19</th>\n",
       "      <td>2.8</td>\n",
       "      <td>40.1</td>\n",
       "      <td>0.8</td>\n",
       "      <td>1.1</td>\n",
       "      <td>1</td>\n",
       "    </tr>\n",
       "    <tr>\n",
       "      <th>20</th>\n",
       "      <td>5.0</td>\n",
       "      <td>175.1</td>\n",
       "      <td>2.8</td>\n",
       "      <td>2.4</td>\n",
       "      <td>0</td>\n",
       "    </tr>\n",
       "    <tr>\n",
       "      <th>21</th>\n",
       "      <td>3.5</td>\n",
       "      <td>129.9</td>\n",
       "      <td>1.3</td>\n",
       "      <td>0.9</td>\n",
       "      <td>2</td>\n",
       "    </tr>\n",
       "    <tr>\n",
       "      <th>22</th>\n",
       "      <td>2.3</td>\n",
       "      <td>40.1</td>\n",
       "      <td>0.9</td>\n",
       "      <td>0.7</td>\n",
       "      <td>1</td>\n",
       "    </tr>\n",
       "    <tr>\n",
       "      <th>23</th>\n",
       "      <td>4.7</td>\n",
       "      <td>175.2</td>\n",
       "      <td>2.6</td>\n",
       "      <td>2.4</td>\n",
       "      <td>0</td>\n",
       "    </tr>\n",
       "    <tr>\n",
       "      <th>24</th>\n",
       "      <td>4.7</td>\n",
       "      <td>175.1</td>\n",
       "      <td>2.6</td>\n",
       "      <td>2.4</td>\n",
       "      <td>0</td>\n",
       "    </tr>\n",
       "    <tr>\n",
       "      <th>25</th>\n",
       "      <td>3.4</td>\n",
       "      <td>129.6</td>\n",
       "      <td>1.0</td>\n",
       "      <td>2.0</td>\n",
       "      <td>2</td>\n",
       "    </tr>\n",
       "    <tr>\n",
       "      <th>26</th>\n",
       "      <td>4.7</td>\n",
       "      <td>175.1</td>\n",
       "      <td>2.6</td>\n",
       "      <td>2.1</td>\n",
       "      <td>0</td>\n",
       "    </tr>\n",
       "    <tr>\n",
       "      <th>27</th>\n",
       "      <td>2.6</td>\n",
       "      <td>39.6</td>\n",
       "      <td>0.7</td>\n",
       "      <td>0.8</td>\n",
       "      <td>1</td>\n",
       "    </tr>\n",
       "    <tr>\n",
       "      <th>28</th>\n",
       "      <td>3.5</td>\n",
       "      <td>129.9</td>\n",
       "      <td>1.1</td>\n",
       "      <td>1.6</td>\n",
       "      <td>2</td>\n",
       "    </tr>\n",
       "    <tr>\n",
       "      <th>29</th>\n",
       "      <td>3.2</td>\n",
       "      <td>40.1</td>\n",
       "      <td>0.9</td>\n",
       "      <td>1.2</td>\n",
       "      <td>1</td>\n",
       "    </tr>\n",
       "  </tbody>\n",
       "</table>\n",
       "</div>"
      ],
      "text/plain": [
       "    Uang Saku  Uang Pakaian  Uang Makan  Uang Kamar Kos  Kluster\n",
       "0         4.9         175.0         2.7             2.4        0\n",
       "1         4.8         175.2         2.6             2.3        0\n",
       "2         3.1          40.0         0.8             0.6        1\n",
       "3         3.3          39.7         0.8             0.8        1\n",
       "4         4.7         175.2         2.6             2.2        0\n",
       "5         3.2         129.9         1.2             1.5        2\n",
       "6         3.2          39.8         0.9             0.8        1\n",
       "7         4.8         175.1         2.6             2.4        0\n",
       "8         5.0         174.9         2.5             2.4        0\n",
       "9         3.4         129.8         1.4             1.4        2\n",
       "10        3.8         129.9         1.0             1.5        2\n",
       "11        4.9         175.2         2.7             2.3        0\n",
       "12        3.5         129.6         1.5             1.5        2\n",
       "13        4.0         129.6         1.6             1.2        2\n",
       "14        3.0          40.2         0.7             0.7        1\n",
       "15        3.1          40.3         0.8             0.9        1\n",
       "16        3.4         130.0         1.7             1.4        2\n",
       "17        3.0          40.0         0.8             0.9        1\n",
       "18        3.7         130.1         1.3             1.3        2\n",
       "19        2.8          40.1         0.8             1.1        1\n",
       "20        5.0         175.1         2.8             2.4        0\n",
       "21        3.5         129.9         1.3             0.9        2\n",
       "22        2.3          40.1         0.9             0.7        1\n",
       "23        4.7         175.2         2.6             2.4        0\n",
       "24        4.7         175.1         2.6             2.4        0\n",
       "25        3.4         129.6         1.0             2.0        2\n",
       "26        4.7         175.1         2.6             2.1        0\n",
       "27        2.6          39.6         0.7             0.8        1\n",
       "28        3.5         129.9         1.1             1.6        2\n",
       "29        3.2          40.1         0.9             1.2        1"
      ]
     },
     "execution_count": 24,
     "metadata": {},
     "output_type": "execute_result"
    }
   ],
   "source": [
    "dataset_hasil=dataset.iloc[:]\n",
    "dataset_hasil[\"Kluster\"]=clusters_2\n",
    "dataset_hasil"
   ]
  },
  {
   "cell_type": "markdown",
   "metadata": {},
   "source": [
    "**Keterangan:**\n",
    "- Kluster 0 = tingkat keborosan tinggi\n",
    "- Kluster 1 = tingkat keborosan rendah\n",
    "- Kluster 2 = tingkat keborosan sedang"
   ]
  }
 ],
 "metadata": {
  "kernelspec": {
   "display_name": "Python 3",
   "language": "python",
   "name": "python3"
  },
  "language_info": {
   "codemirror_mode": {
    "name": "ipython",
    "version": 3
   },
   "file_extension": ".py",
   "mimetype": "text/x-python",
   "name": "python",
   "nbconvert_exporter": "python",
   "pygments_lexer": "ipython3",
   "version": "3.7.1"
  }
 },
 "nbformat": 4,
 "nbformat_minor": 2
}

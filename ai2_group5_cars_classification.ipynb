{
 "cells": [
  {
   "cell_type": "markdown",
   "metadata": {
    "colab_type": "text",
    "id": "lP82WzH8-sHO"
   },
   "source": [
    "## Project 1 - Tugas CNN - Cars Classification"
   ]
  },
  {
   "cell_type": "markdown",
   "metadata": {
    "colab_type": "text",
    "id": "OnBO5xws_Y8c"
   },
   "source": [
    "### Grup 5 - AI 2\n",
    "\n",
    "Anggota Kelompok: \n",
    "* Diah Ayu Setyaningsih\n",
    "* I Nyoman Warsana\n",
    "* Iman Santoso"
   ]
  },
  {
   "cell_type": "code",
   "execution_count": 1,
   "metadata": {
    "colab": {
     "base_uri": "https://localhost:8080/",
     "height": 578
    },
    "colab_type": "code",
    "id": "i-g9SNdzP8Tz",
    "outputId": "8c3301d1-e881-4b7d-effd-83f1a59d0b29"
   },
   "outputs": [
    {
     "name": "stdout",
     "output_type": "stream",
     "text": [
      "--2019-08-11 22:27:22--  http://imagenet.stanford.edu/internal/car196/cars_train.tgz\n",
      "Resolving imagenet.stanford.edu (imagenet.stanford.edu)... 171.64.68.16\n",
      "Connecting to imagenet.stanford.edu (imagenet.stanford.edu)|171.64.68.16|:80... connected.\n",
      "HTTP request sent, awaiting response... 200 OK\n",
      "Length: 979269282 (934M) [application/x-gzip]\n",
      "Saving to: ‘cars_train.tgz’\n",
      "\n",
      "cars_train.tgz      100%[===================>] 933.90M  14.6MB/s    in 1m 56s  \n",
      "\n",
      "2019-08-11 22:30:28 (8.06 MB/s) - ‘cars_train.tgz’ saved [979269282/979269282]\n",
      "\n",
      "--2019-08-11 22:30:31--  http://imagenet.stanford.edu/internal/car196/cars_test.tgz\n",
      "Resolving imagenet.stanford.edu (imagenet.stanford.edu)... 171.64.68.16\n",
      "Connecting to imagenet.stanford.edu (imagenet.stanford.edu)|171.64.68.16|:80... connected.\n",
      "HTTP request sent, awaiting response... 200 OK\n",
      "Length: 977350468 (932M) [application/x-gzip]\n",
      "Saving to: ‘cars_test.tgz’\n",
      "\n",
      "cars_test.tgz       100%[===================>] 932.07M  17.2MB/s    in 61s     \n",
      "\n",
      "2019-08-11 22:31:36 (15.4 MB/s) - ‘cars_test.tgz’ saved [977350468/977350468]\n",
      "\n",
      "--2019-08-11 22:31:39--  http://ai.stanford.edu/~jkrause/cars/car_devkit.tgz\n",
      "Resolving ai.stanford.edu (ai.stanford.edu)... 171.64.68.10\n",
      "Connecting to ai.stanford.edu (ai.stanford.edu)|171.64.68.10|:80... connected.\n",
      "HTTP request sent, awaiting response... 200 OK\n",
      "Length: 330960 (323K) [application/x-gzip]\n",
      "Saving to: ‘car_devkit.tgz’\n",
      "\n",
      "car_devkit.tgz      100%[===================>] 323.20K   270KB/s    in 1.2s    \n",
      "\n",
      "2019-08-11 22:31:41 (270 KB/s) - ‘car_devkit.tgz’ saved [330960/330960]\n",
      "\n"
     ]
    }
   ],
   "source": [
    "# dataset\n",
    "# http://ai.stanford.edu/~jkrause/cars/car_dataset.html\n",
    "\n",
    "# data training\n",
    "!wget http://imagenet.stanford.edu/internal/car196/cars_train.tgz\n",
    "# data test\n",
    "!wget http://imagenet.stanford.edu/internal/car196/cars_test.tgz\n",
    "# data devkit\n",
    "!wget http://ai.stanford.edu/~jkrause/cars/car_devkit.tgz"
   ]
  },
  {
   "cell_type": "code",
   "execution_count": 0,
   "metadata": {
    "colab": {
     "base_uri": "https://localhost:8080/",
     "height": 34
    },
    "colab_type": "code",
    "id": "By9daQhbKXV_",
    "outputId": "a60a2fe3-5ed9-4cc5-b06b-d60c02b293cf"
   },
   "outputs": [
    {
     "name": "stdout",
     "output_type": "stream",
     "text": [
      "Mounted at /content/drive\n"
     ]
    }
   ],
   "source": [
    "# Mount Google Drive\n",
    "from google.colab import drive\n",
    "drive.mount('/content/drive')"
   ]
  },
  {
   "cell_type": "code",
   "execution_count": 0,
   "metadata": {
    "colab": {},
    "colab_type": "code",
    "id": "-6IAUhZ4O5Wf"
   },
   "outputs": [],
   "source": [
    "# Make backup files to drive\n",
    "# <your sub folder>\n",
    "# !cp /content/car_devkit.tgz /content/drive/My\\ Drive/dtsproject/car_devkit.tgz\n",
    "# !cp /content/cars_train.tgz /content/drive/My\\ Drive/dtsproject/cars_train.tgz\n",
    "# !cp /content/cars_test.tgz /content/drive/My\\ Drive/dtsproject/cars_test.tgz\n",
    "\n",
    "# Retrieve backup file from drive\n",
    "!cp /content/drive/My\\ Drive/dtsproject/car_devkit.tgz /content/car_devkit.tgz\n",
    "!cp /content/drive/My\\ Drive/dtsproject/cars_train.tgz /content/cars_train.tgz\n",
    "!cp /content/drive/My\\ Drive/dtsproject/cars_test.tgz /content/cars_test.tgz"
   ]
  },
  {
   "cell_type": "code",
   "execution_count": 0,
   "metadata": {
    "colab": {},
    "colab_type": "code",
    "id": "sFxaZh7NVhhK"
   },
   "outputs": [],
   "source": [
    "# Unpack All Data\n",
    "import tarfile\n",
    "for file in ['car_devkit.tgz', 'cars_train.tgz', 'cars_test.tgz']:\n",
    "  tar = tarfile.open(file)\n",
    "  tar.extractall()\n",
    "  tar.close"
   ]
  },
  {
   "cell_type": "code",
   "execution_count": 3,
   "metadata": {
    "colab": {
     "base_uri": "https://localhost:8080/",
     "height": 102
    },
    "colab_type": "code",
    "id": "yYra-ccvX8Vh",
    "outputId": "a9398e4e-d8e9-4359-d7e1-d3eb7dbf7655"
   },
   "outputs": [
    {
     "data": {
      "text/plain": [
       "['AM General Hummer SUV 2000',\n",
       " 'Acura RL Sedan 2012',\n",
       " 'Acura TL Sedan 2012',\n",
       " 'Acura TL Type-S 2008',\n",
       " 'Acura TSX Sedan 2012']"
      ]
     },
     "execution_count": 3,
     "metadata": {
      "tags": []
     },
     "output_type": "execute_result"
    }
   ],
   "source": [
    "# Create List of Car Names\n",
    "from scipy.io import loadmat\n",
    "cars_meta = loadmat('/content/devkit/cars_meta.mat')\n",
    "cars_list = []\n",
    "for i in range(len(cars_meta['class_names'][0])):\n",
    "  cars_list.append(cars_meta['class_names'][0][i][0])\n",
    "cars_list[:5]"
   ]
  },
  {
   "cell_type": "code",
   "execution_count": 0,
   "metadata": {
    "colab": {},
    "colab_type": "code",
    "id": "CO9VeEqnYl0_"
   },
   "outputs": [],
   "source": [
    "import pandas as pd\n",
    "import numpy as np"
   ]
  },
  {
   "cell_type": "code",
   "execution_count": 5,
   "metadata": {
    "colab": {
     "base_uri": "https://localhost:8080/",
     "height": 204
    },
    "colab_type": "code",
    "id": "HomWaXyx5Oc4",
    "outputId": "929025bb-be16-4360-f223-5187a0e56ef4"
   },
   "outputs": [
    {
     "data": {
      "text/html": [
       "<div>\n",
       "<style scoped>\n",
       "    .dataframe tbody tr th:only-of-type {\n",
       "        vertical-align: middle;\n",
       "    }\n",
       "\n",
       "    .dataframe tbody tr th {\n",
       "        vertical-align: top;\n",
       "    }\n",
       "\n",
       "    .dataframe thead th {\n",
       "        text-align: right;\n",
       "    }\n",
       "</style>\n",
       "<table border=\"1\" class=\"dataframe\">\n",
       "  <thead>\n",
       "    <tr style=\"text-align: right;\">\n",
       "      <th></th>\n",
       "      <th>bbox_x1</th>\n",
       "      <th>bbox_y1</th>\n",
       "      <th>bbox_x2</th>\n",
       "      <th>bbox_y2</th>\n",
       "      <th>class</th>\n",
       "      <th>fname</th>\n",
       "    </tr>\n",
       "  </thead>\n",
       "  <tbody>\n",
       "    <tr>\n",
       "      <th>1</th>\n",
       "      <td>39</td>\n",
       "      <td>116</td>\n",
       "      <td>569</td>\n",
       "      <td>375</td>\n",
       "      <td>14</td>\n",
       "      <td>00001.jpg</td>\n",
       "    </tr>\n",
       "    <tr>\n",
       "      <th>2</th>\n",
       "      <td>36</td>\n",
       "      <td>116</td>\n",
       "      <td>868</td>\n",
       "      <td>587</td>\n",
       "      <td>3</td>\n",
       "      <td>00002.jpg</td>\n",
       "    </tr>\n",
       "    <tr>\n",
       "      <th>3</th>\n",
       "      <td>85</td>\n",
       "      <td>109</td>\n",
       "      <td>601</td>\n",
       "      <td>381</td>\n",
       "      <td>91</td>\n",
       "      <td>00003.jpg</td>\n",
       "    </tr>\n",
       "    <tr>\n",
       "      <th>4</th>\n",
       "      <td>621</td>\n",
       "      <td>393</td>\n",
       "      <td>1484</td>\n",
       "      <td>1096</td>\n",
       "      <td>134</td>\n",
       "      <td>00004.jpg</td>\n",
       "    </tr>\n",
       "    <tr>\n",
       "      <th>5</th>\n",
       "      <td>14</td>\n",
       "      <td>36</td>\n",
       "      <td>133</td>\n",
       "      <td>99</td>\n",
       "      <td>106</td>\n",
       "      <td>00005.jpg</td>\n",
       "    </tr>\n",
       "  </tbody>\n",
       "</table>\n",
       "</div>"
      ],
      "text/plain": [
       "  bbox_x1 bbox_y1 bbox_x2 bbox_y2 class      fname\n",
       "1      39     116     569     375    14  00001.jpg\n",
       "2      36     116     868     587     3  00002.jpg\n",
       "3      85     109     601     381    91  00003.jpg\n",
       "4     621     393    1484    1096   134  00004.jpg\n",
       "5      14      36     133      99   106  00005.jpg"
      ]
     },
     "execution_count": 5,
     "metadata": {
      "tags": []
     },
     "output_type": "execute_result"
    }
   ],
   "source": [
    "# Create Cars Train Annotations DataFrame\n",
    "cars_train_info = loadmat('/content/devkit/cars_train_annos.mat')\n",
    "cars_train_data = [[row.flat[0] for row in line] for line in cars_train_info['annotations'][0]]\n",
    "columns = ['bbox_x1', 'bbox_y1', 'bbox_x2', 'bbox_y2', 'class', 'fname']\n",
    "cars_train_df = pd.DataFrame(cars_train_data, columns=columns, dtype=str)\n",
    "cars_train_df.index = np.arange(1, len(cars_train_df)+1)\n",
    "\n",
    "cars_train_df.to_csv(r'/content/cars_train_annos.csv', index=False)\n",
    "cars_train_df.head()"
   ]
  },
  {
   "cell_type": "code",
   "execution_count": 6,
   "metadata": {
    "colab": {
     "base_uri": "https://localhost:8080/",
     "height": 204
    },
    "colab_type": "code",
    "id": "fn5HSuurBiFL",
    "outputId": "e13759d5-4a85-4293-e431-2fd350c7cab3"
   },
   "outputs": [
    {
     "data": {
      "text/html": [
       "<div>\n",
       "<style scoped>\n",
       "    .dataframe tbody tr th:only-of-type {\n",
       "        vertical-align: middle;\n",
       "    }\n",
       "\n",
       "    .dataframe tbody tr th {\n",
       "        vertical-align: top;\n",
       "    }\n",
       "\n",
       "    .dataframe thead th {\n",
       "        text-align: right;\n",
       "    }\n",
       "</style>\n",
       "<table border=\"1\" class=\"dataframe\">\n",
       "  <thead>\n",
       "    <tr style=\"text-align: right;\">\n",
       "      <th></th>\n",
       "      <th>bbox_x1</th>\n",
       "      <th>bbox_y1</th>\n",
       "      <th>bbox_x2</th>\n",
       "      <th>bbox_y2</th>\n",
       "      <th>fname</th>\n",
       "    </tr>\n",
       "  </thead>\n",
       "  <tbody>\n",
       "    <tr>\n",
       "      <th>1</th>\n",
       "      <td>30</td>\n",
       "      <td>52</td>\n",
       "      <td>246</td>\n",
       "      <td>147</td>\n",
       "      <td>00001.jpg</td>\n",
       "    </tr>\n",
       "    <tr>\n",
       "      <th>2</th>\n",
       "      <td>100</td>\n",
       "      <td>19</td>\n",
       "      <td>576</td>\n",
       "      <td>203</td>\n",
       "      <td>00002.jpg</td>\n",
       "    </tr>\n",
       "    <tr>\n",
       "      <th>3</th>\n",
       "      <td>51</td>\n",
       "      <td>105</td>\n",
       "      <td>968</td>\n",
       "      <td>659</td>\n",
       "      <td>00003.jpg</td>\n",
       "    </tr>\n",
       "    <tr>\n",
       "      <th>4</th>\n",
       "      <td>67</td>\n",
       "      <td>84</td>\n",
       "      <td>581</td>\n",
       "      <td>407</td>\n",
       "      <td>00004.jpg</td>\n",
       "    </tr>\n",
       "    <tr>\n",
       "      <th>5</th>\n",
       "      <td>140</td>\n",
       "      <td>151</td>\n",
       "      <td>593</td>\n",
       "      <td>339</td>\n",
       "      <td>00005.jpg</td>\n",
       "    </tr>\n",
       "  </tbody>\n",
       "</table>\n",
       "</div>"
      ],
      "text/plain": [
       "  bbox_x1 bbox_y1 bbox_x2 bbox_y2      fname\n",
       "1      30      52     246     147  00001.jpg\n",
       "2     100      19     576     203  00002.jpg\n",
       "3      51     105     968     659  00003.jpg\n",
       "4      67      84     581     407  00004.jpg\n",
       "5     140     151     593     339  00005.jpg"
      ]
     },
     "execution_count": 6,
     "metadata": {
      "tags": []
     },
     "output_type": "execute_result"
    }
   ],
   "source": [
    "cars_test_info = loadmat('/content/devkit/cars_test_annos.mat')\n",
    "cars_test_data = [[row.flat[0] for row in line] for line in cars_test_info['annotations'][0]]\n",
    "columns = ['bbox_x1', 'bbox_y1', 'bbox_x2', 'bbox_y2', 'fname']\n",
    "cars_test_df = pd.DataFrame(cars_test_data, columns=columns, dtype=str)\n",
    "cars_test_df.index = np.arange(1, len(cars_test_df)+1)\n",
    "\n",
    "cars_test_df.to_csv(r'/content/cars_test_annos.csv', index=False)\n",
    "cars_test_df.head()"
   ]
  },
  {
   "cell_type": "code",
   "execution_count": 7,
   "metadata": {
    "colab": {
     "base_uri": "https://localhost:8080/",
     "height": 204
    },
    "colab_type": "code",
    "id": "VrPtiP5Q1bWv",
    "outputId": "9313a1eb-1252-4e64-c2fd-88a46d079ed1"
   },
   "outputs": [
    {
     "data": {
      "text/html": [
       "<div>\n",
       "<style scoped>\n",
       "    .dataframe tbody tr th:only-of-type {\n",
       "        vertical-align: middle;\n",
       "    }\n",
       "\n",
       "    .dataframe tbody tr th {\n",
       "        vertical-align: top;\n",
       "    }\n",
       "\n",
       "    .dataframe thead th {\n",
       "        text-align: right;\n",
       "    }\n",
       "</style>\n",
       "<table border=\"1\" class=\"dataframe\">\n",
       "  <thead>\n",
       "    <tr style=\"text-align: right;\">\n",
       "      <th></th>\n",
       "      <th>Car Name</th>\n",
       "    </tr>\n",
       "  </thead>\n",
       "  <tbody>\n",
       "    <tr>\n",
       "      <th>1</th>\n",
       "      <td>AM General Hummer SUV 2000</td>\n",
       "    </tr>\n",
       "    <tr>\n",
       "      <th>2</th>\n",
       "      <td>Acura RL Sedan 2012</td>\n",
       "    </tr>\n",
       "    <tr>\n",
       "      <th>3</th>\n",
       "      <td>Acura TL Sedan 2012</td>\n",
       "    </tr>\n",
       "    <tr>\n",
       "      <th>4</th>\n",
       "      <td>Acura TL Type-S 2008</td>\n",
       "    </tr>\n",
       "    <tr>\n",
       "      <th>5</th>\n",
       "      <td>Acura TSX Sedan 2012</td>\n",
       "    </tr>\n",
       "  </tbody>\n",
       "</table>\n",
       "</div>"
      ],
      "text/plain": [
       "                     Car Name\n",
       "1  AM General Hummer SUV 2000\n",
       "2         Acura RL Sedan 2012\n",
       "3         Acura TL Sedan 2012\n",
       "4        Acura TL Type-S 2008\n",
       "5        Acura TSX Sedan 2012"
      ]
     },
     "execution_count": 7,
     "metadata": {
      "tags": []
     },
     "output_type": "execute_result"
    }
   ],
   "source": [
    "cars_meta_df = pd.DataFrame(cars_list,columns=['Car Name'], dtype=str)\n",
    "cars_meta_df.index = np.arange(1, len(cars_meta_df)+1)\n",
    "\n",
    "cars_meta_df.to_csv(r'/content/car_names.csv', index=False)\n",
    "cars_meta_df.head()"
   ]
  },
  {
   "cell_type": "code",
   "execution_count": 8,
   "metadata": {
    "colab": {
     "base_uri": "https://localhost:8080/",
     "height": 34
    },
    "colab_type": "code",
    "id": "Pr08uIcEH9-_",
    "outputId": "136252d3-118a-4fb1-8752-7f106f2ac159"
   },
   "outputs": [
    {
     "name": "stderr",
     "output_type": "stream",
     "text": [
      "Using TensorFlow backend.\n"
     ]
    }
   ],
   "source": [
    "from keras.models import Sequential, Model\n",
    "from keras_preprocessing.image import ImageDataGenerator\n",
    "from keras.layers import Dense, Activation, Flatten, Dropout\n",
    "from keras.layers import Conv2D, MaxPooling2D\n",
    "from keras import regularizers, optimizers"
   ]
  },
  {
   "cell_type": "code",
   "execution_count": 9,
   "metadata": {
    "colab": {
     "base_uri": "https://localhost:8080/",
     "height": 68
    },
    "colab_type": "code",
    "id": "PjJe6Ut1cbqX",
    "outputId": "78b8f763-27d5-4fac-c6c9-41b082804bbd"
   },
   "outputs": [
    {
     "name": "stdout",
     "output_type": "stream",
     "text": [
      "Found 6108 validated image filenames belonging to 196 classes.\n",
      "Found 2036 validated image filenames belonging to 196 classes.\n",
      "Found 8041 validated image filenames.\n"
     ]
    }
   ],
   "source": [
    "# split to train cars_train data\n",
    "train_datagen = ImageDataGenerator(rescale=1./255.,validation_split=0.25)\n",
    "\n",
    "data_train_generator = train_datagen.flow_from_dataframe(\n",
    "    dataframe= cars_train_df,\n",
    "    directory= '/content/cars_train/',\n",
    "    x_col= 'fname',\n",
    "    y_col= 'class',\n",
    "    subset= 'training',\n",
    "    batch_size= 32,\n",
    "    shuffle= True,\n",
    "    class_mode= \"categorical\",\n",
    "    target_size=(256,256)\n",
    ")\n",
    "\n",
    "data_valid_generator = train_datagen.flow_from_dataframe(\n",
    "    dataframe= cars_train_df,\n",
    "    directory= '/content/cars_train/',\n",
    "    x_col= 'fname',\n",
    "    y_col= 'class',\n",
    "    subset= 'validation',\n",
    "    batch_size= 32,\n",
    "    shuffle= True,\n",
    "    class_mode= \"categorical\",\n",
    "    target_size=(256,256)\n",
    ")\n",
    "\n",
    "test_datagen = ImageDataGenerator(rescale=1./255.)\n",
    "\n",
    "data_test_generator = test_datagen.flow_from_dataframe(\n",
    "    dataframe= cars_test_df,\n",
    "    directory= '/content/cars_test/',\n",
    "    x_col= 'fname',\n",
    "    y_col= None,\n",
    "    batch_size= 32,\n",
    "    shuffle= False,\n",
    "    class_mode= None,\n",
    "    target_size=(256,256)\n",
    ")"
   ]
  },
  {
   "cell_type": "code",
   "execution_count": 10,
   "metadata": {
    "colab": {
     "base_uri": "https://localhost:8080/",
     "height": 921
    },
    "colab_type": "code",
    "id": "J38oOQHnsExa",
    "outputId": "2063fbd9-24a6-4733-f2c0-f5e423ae0f2d"
   },
   "outputs": [
    {
     "name": "stderr",
     "output_type": "stream",
     "text": [
      "WARNING: Logging before flag parsing goes to stderr.\n",
      "W0811 22:33:19.167096 140570794633088 deprecation_wrapper.py:119] From /usr/local/lib/python3.6/dist-packages/keras/backend/tensorflow_backend.py:74: The name tf.get_default_graph is deprecated. Please use tf.compat.v1.get_default_graph instead.\n",
      "\n",
      "W0811 22:33:19.223475 140570794633088 deprecation_wrapper.py:119] From /usr/local/lib/python3.6/dist-packages/keras/backend/tensorflow_backend.py:517: The name tf.placeholder is deprecated. Please use tf.compat.v1.placeholder instead.\n",
      "\n",
      "W0811 22:33:19.230819 140570794633088 deprecation_wrapper.py:119] From /usr/local/lib/python3.6/dist-packages/keras/backend/tensorflow_backend.py:4138: The name tf.random_uniform is deprecated. Please use tf.random.uniform instead.\n",
      "\n",
      "W0811 22:33:19.265429 140570794633088 deprecation_wrapper.py:119] From /usr/local/lib/python3.6/dist-packages/keras/backend/tensorflow_backend.py:3976: The name tf.nn.max_pool is deprecated. Please use tf.nn.max_pool2d instead.\n",
      "\n",
      "W0811 22:33:19.307635 140570794633088 deprecation_wrapper.py:119] From /usr/local/lib/python3.6/dist-packages/keras/backend/tensorflow_backend.py:133: The name tf.placeholder_with_default is deprecated. Please use tf.compat.v1.placeholder_with_default instead.\n",
      "\n",
      "W0811 22:33:19.317231 140570794633088 deprecation.py:506] From /usr/local/lib/python3.6/dist-packages/keras/backend/tensorflow_backend.py:3445: calling dropout (from tensorflow.python.ops.nn_ops) with keep_prob is deprecated and will be removed in a future version.\n",
      "Instructions for updating:\n",
      "Please use `rate` instead of `keep_prob`. Rate should be set to `rate = 1 - keep_prob`.\n",
      "W0811 22:33:19.355037 140570794633088 deprecation_wrapper.py:119] From /usr/local/lib/python3.6/dist-packages/keras/optimizers.py:790: The name tf.train.Optimizer is deprecated. Please use tf.compat.v1.train.Optimizer instead.\n",
      "\n",
      "W0811 22:33:19.362029 140570794633088 deprecation_wrapper.py:119] From /usr/local/lib/python3.6/dist-packages/keras/backend/tensorflow_backend.py:3376: The name tf.log is deprecated. Please use tf.math.log instead.\n",
      "\n",
      "W0811 22:33:19.368305 140570794633088 deprecation.py:323] From /usr/local/lib/python3.6/dist-packages/tensorflow/python/ops/nn_impl.py:180: add_dispatch_support.<locals>.wrapper (from tensorflow.python.ops.array_ops) is deprecated and will be removed in a future version.\n",
      "Instructions for updating:\n",
      "Use tf.where in 2.0, which has the same broadcast rule as np.where\n"
     ]
    },
    {
     "name": "stdout",
     "output_type": "stream",
     "text": [
      "_________________________________________________________________\n",
      "Layer (type)                 Output Shape              Param #   \n",
      "=================================================================\n",
      "conv2d_1 (Conv2D)            (None, 254, 254, 32)      896       \n",
      "_________________________________________________________________\n",
      "activation_1 (Activation)    (None, 254, 254, 32)      0         \n",
      "_________________________________________________________________\n",
      "max_pooling2d_1 (MaxPooling2 (None, 127, 127, 32)      0         \n",
      "_________________________________________________________________\n",
      "conv2d_2 (Conv2D)            (None, 125, 125, 64)      18496     \n",
      "_________________________________________________________________\n",
      "activation_2 (Activation)    (None, 125, 125, 64)      0         \n",
      "_________________________________________________________________\n",
      "max_pooling2d_2 (MaxPooling2 (None, 41, 41, 64)        0         \n",
      "_________________________________________________________________\n",
      "flatten_1 (Flatten)          (None, 107584)            0         \n",
      "_________________________________________________________________\n",
      "dense_1 (Dense)              (None, 64)                6885440   \n",
      "_________________________________________________________________\n",
      "activation_3 (Activation)    (None, 64)                0         \n",
      "_________________________________________________________________\n",
      "dropout_1 (Dropout)          (None, 64)                0         \n",
      "_________________________________________________________________\n",
      "dense_2 (Dense)              (None, 196)               12740     \n",
      "_________________________________________________________________\n",
      "activation_4 (Activation)    (None, 196)               0         \n",
      "=================================================================\n",
      "Total params: 6,917,572\n",
      "Trainable params: 6,917,572\n",
      "Non-trainable params: 0\n",
      "_________________________________________________________________\n"
     ]
    }
   ],
   "source": [
    "# Build CNN Model\n",
    "\n",
    "# Layer 1\n",
    "model = Sequential()\n",
    "model.add(Conv2D(32, (3, 3), input_shape=(256,256,3)))\n",
    "model.add(Activation('relu'))\n",
    "model.add(MaxPooling2D(pool_size=(2, 2)))\n",
    "\n",
    "# Layer 2\n",
    "model.add(Conv2D(64, (3, 3)))\n",
    "model.add(Activation('relu'))\n",
    "model.add(MaxPooling2D(pool_size=(3, 3)))\n",
    "\n",
    "# Layer 3\n",
    "model.add(Flatten())\n",
    "model.add(Dense(64))\n",
    "model.add(Activation('relu'))\n",
    "model.add(Dropout(0.5))\n",
    "\n",
    "# Layer 4\n",
    "model.add(Dense(196))\n",
    "model.add(Activation('sigmoid'))\n",
    "\n",
    "# Model Compiling\n",
    "optimizer= optimizers.Adadelta(lr=0.01)\n",
    "model.compile(loss='binary_crossentropy',\n",
    "              optimizer=optimizer,\n",
    "              metrics=['accuracy'])\n",
    "\n",
    "model.summary()"
   ]
  },
  {
   "cell_type": "code",
   "execution_count": 12,
   "metadata": {
    "colab": {
     "base_uri": "https://localhost:8080/",
     "height": 394
    },
    "colab_type": "code",
    "id": "y_Y74mULwD6f",
    "outputId": "c690a942-631d-49bd-afd0-eeb5dc31f726"
   },
   "outputs": [
    {
     "name": "stdout",
     "output_type": "stream",
     "text": [
      "Epoch 1/10\n",
      "190/190 [==============================] - 69s 364ms/step - loss: 0.3453 - acc: 0.8477 - val_loss: 0.1099 - val_acc: 0.9947\n",
      "Epoch 2/10\n",
      "190/190 [==============================] - 66s 349ms/step - loss: 0.2304 - acc: 0.9074 - val_loss: 0.0504 - val_acc: 0.9949\n",
      "Epoch 3/10\n",
      "190/190 [==============================] - 66s 348ms/step - loss: 0.1672 - acc: 0.9382 - val_loss: 0.0382 - val_acc: 0.9949\n",
      "Epoch 4/10\n",
      "190/190 [==============================] - 65s 344ms/step - loss: 0.1341 - acc: 0.9540 - val_loss: 0.0358 - val_acc: 0.9949\n",
      "Epoch 5/10\n",
      "190/190 [==============================] - 67s 352ms/step - loss: 0.1186 - acc: 0.9616 - val_loss: 0.0355 - val_acc: 0.9949\n",
      "Epoch 6/10\n",
      "190/190 [==============================] - 67s 354ms/step - loss: 0.1047 - acc: 0.9684 - val_loss: 0.0358 - val_acc: 0.9949\n",
      "Epoch 7/10\n",
      "190/190 [==============================] - 65s 344ms/step - loss: 0.0979 - acc: 0.9717 - val_loss: 0.0360 - val_acc: 0.9949\n",
      "Epoch 8/10\n",
      "190/190 [==============================] - 65s 342ms/step - loss: 0.0915 - acc: 0.9749 - val_loss: 0.0363 - val_acc: 0.9949\n",
      "Epoch 9/10\n",
      "190/190 [==============================] - 65s 341ms/step - loss: 0.0871 - acc: 0.9770 - val_loss: 0.0364 - val_acc: 0.9949\n",
      "Epoch 10/10\n",
      "190/190 [==============================] - 66s 345ms/step - loss: 0.0827 - acc: 0.9789 - val_loss: 0.0365 - val_acc: 0.9949\n"
     ]
    },
    {
     "data": {
      "text/plain": [
       "<keras.callbacks.History at 0x7fd8e1abb668>"
      ]
     },
     "execution_count": 12,
     "metadata": {
      "tags": []
     },
     "output_type": "execute_result"
    }
   ],
   "source": [
    "STEP_SIZE_TRAIN= data_train_generator.n//data_train_generator.batch_size\n",
    "STEP_SIZE_VALID= data_valid_generator.n//data_valid_generator.batch_size\n",
    "STEP_SIZE_TEST= data_test_generator.n//data_test_generator.batch_size+1\n",
    "\n",
    "model.fit_generator(generator=data_train_generator,\n",
    "                    steps_per_epoch=STEP_SIZE_TRAIN,\n",
    "                    validation_data=data_valid_generator,\n",
    "                    validation_steps=STEP_SIZE_VALID,\n",
    "                    epochs=10\n",
    ")"
   ]
  },
  {
   "cell_type": "code",
   "execution_count": 13,
   "metadata": {
    "colab": {
     "base_uri": "https://localhost:8080/",
     "height": 34
    },
    "colab_type": "code",
    "id": "lAC8Ux5x81qG",
    "outputId": "1cec78cf-b6e3-4606-ab59-ae7444b71e6b"
   },
   "outputs": [
    {
     "data": {
      "text/plain": [
       "[0.03651682950533971, 0.9948979616165161]"
      ]
     },
     "execution_count": 13,
     "metadata": {
      "tags": []
     },
     "output_type": "execute_result"
    }
   ],
   "source": [
    "model.evaluate_generator(generator=data_valid_generator,\n",
    "steps=STEP_SIZE_TEST)"
   ]
  },
  {
   "cell_type": "code",
   "execution_count": 14,
   "metadata": {
    "colab": {
     "base_uri": "https://localhost:8080/",
     "height": 34
    },
    "colab_type": "code",
    "id": "mIgY6HQ388Gt",
    "outputId": "da042112-6cd9-4cbc-af71-d484801b5062"
   },
   "outputs": [
    {
     "name": "stdout",
     "output_type": "stream",
     "text": [
      "252/252 [==============================] - 65s 257ms/step\n"
     ]
    }
   ],
   "source": [
    "data_test_generator.reset()\n",
    "pred=model.predict_generator(data_test_generator,\n",
    "steps=STEP_SIZE_TEST,\n",
    "verbose=1)"
   ]
  },
  {
   "cell_type": "code",
   "execution_count": 0,
   "metadata": {
    "colab": {},
    "colab_type": "code",
    "id": "ZQ2O8okq9cHu"
   },
   "outputs": [],
   "source": [
    "predicted_class_indices=np.argmax(pred,axis=1)"
   ]
  },
  {
   "cell_type": "code",
   "execution_count": 0,
   "metadata": {
    "colab": {},
    "colab_type": "code",
    "id": "7bfiguNq-4I-"
   },
   "outputs": [],
   "source": [
    "labels = {i:cars_list[i] for i in range(len(cars_list))}\n",
    "predictions = [labels[k] for k in predicted_class_indices]"
   ]
  },
  {
   "cell_type": "code",
   "execution_count": 0,
   "metadata": {
    "colab": {},
    "colab_type": "code",
    "id": "4fk-kyDF6e1r"
   },
   "outputs": [],
   "source": [
    "filename=data_test_generator.filenames"
   ]
  },
  {
   "cell_type": "code",
   "execution_count": 0,
   "metadata": {
    "colab": {},
    "colab_type": "code",
    "id": "JgVhD_c6SpvJ"
   },
   "outputs": [],
   "source": [
    "\n",
    "results=pd.DataFrame({\"Filename\":filename,\n",
    "                      \"Predictions\":predictions})\n",
    "results.to_csv(\"results.csv\",index=False)"
   ]
  },
  {
   "cell_type": "code",
   "execution_count": 19,
   "metadata": {
    "colab": {
     "base_uri": "https://localhost:8080/",
     "height": 204
    },
    "colab_type": "code",
    "id": "iRSlPNQyTG6X",
    "outputId": "15011d27-5fdc-439d-b632-5b5a70858e04"
   },
   "outputs": [
    {
     "data": {
      "text/html": [
       "<div>\n",
       "<style scoped>\n",
       "    .dataframe tbody tr th:only-of-type {\n",
       "        vertical-align: middle;\n",
       "    }\n",
       "\n",
       "    .dataframe tbody tr th {\n",
       "        vertical-align: top;\n",
       "    }\n",
       "\n",
       "    .dataframe thead th {\n",
       "        text-align: right;\n",
       "    }\n",
       "</style>\n",
       "<table border=\"1\" class=\"dataframe\">\n",
       "  <thead>\n",
       "    <tr style=\"text-align: right;\">\n",
       "      <th></th>\n",
       "      <th>Filename</th>\n",
       "      <th>Predictions</th>\n",
       "    </tr>\n",
       "  </thead>\n",
       "  <tbody>\n",
       "    <tr>\n",
       "      <th>0</th>\n",
       "      <td>00001.jpg</td>\n",
       "      <td>Rolls-Royce Phantom Drophead Coupe Convertible...</td>\n",
       "    </tr>\n",
       "    <tr>\n",
       "      <th>1</th>\n",
       "      <td>00002.jpg</td>\n",
       "      <td>Rolls-Royce Phantom Drophead Coupe Convertible...</td>\n",
       "    </tr>\n",
       "    <tr>\n",
       "      <th>2</th>\n",
       "      <td>00003.jpg</td>\n",
       "      <td>Rolls-Royce Phantom Drophead Coupe Convertible...</td>\n",
       "    </tr>\n",
       "    <tr>\n",
       "      <th>3</th>\n",
       "      <td>00004.jpg</td>\n",
       "      <td>Rolls-Royce Phantom Drophead Coupe Convertible...</td>\n",
       "    </tr>\n",
       "    <tr>\n",
       "      <th>4</th>\n",
       "      <td>00005.jpg</td>\n",
       "      <td>Rolls-Royce Phantom Drophead Coupe Convertible...</td>\n",
       "    </tr>\n",
       "  </tbody>\n",
       "</table>\n",
       "</div>"
      ],
      "text/plain": [
       "    Filename                                        Predictions\n",
       "0  00001.jpg  Rolls-Royce Phantom Drophead Coupe Convertible...\n",
       "1  00002.jpg  Rolls-Royce Phantom Drophead Coupe Convertible...\n",
       "2  00003.jpg  Rolls-Royce Phantom Drophead Coupe Convertible...\n",
       "3  00004.jpg  Rolls-Royce Phantom Drophead Coupe Convertible...\n",
       "4  00005.jpg  Rolls-Royce Phantom Drophead Coupe Convertible..."
      ]
     },
     "execution_count": 19,
     "metadata": {
      "tags": []
     },
     "output_type": "execute_result"
    }
   ],
   "source": [
    "results.head()"
   ]
  }
 ],
 "metadata": {
  "accelerator": "GPU",
  "colab": {
   "collapsed_sections": [],
   "name": "ai2_group5_cars_classification edit.ipynb",
   "provenance": [],
   "toc_visible": true,
   "version": "0.3.2"
  },
  "kernelspec": {
   "display_name": "Python 3",
   "language": "python",
   "name": "python3"
  },
  "language_info": {
   "codemirror_mode": {
    "name": "ipython",
    "version": 3
   },
   "file_extension": ".py",
   "mimetype": "text/x-python",
   "name": "python",
   "nbconvert_exporter": "python",
   "pygments_lexer": "ipython3",
   "version": "3.7.1"
  }
 },
 "nbformat": 4,
 "nbformat_minor": 1
}

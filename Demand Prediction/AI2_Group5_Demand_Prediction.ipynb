{
  "nbformat": 4,
  "nbformat_minor": 0,
  "metadata": {
    "colab": {
      "name": "AI2_Group5_Demand_Prediction.ipynb",
      "version": "0.3.2",
      "provenance": [],
      "collapsed_sections": [],
      "toc_visible": true
    },
    "kernelspec": {
      "name": "python3",
      "display_name": "Python 3"
    },
    "accelerator": "GPU"
  },
  "cells": [
    {
      "cell_type": "markdown",
      "metadata": {
        "id": "hDZeRpAUbaKo",
        "colab_type": "text"
      },
      "source": [
        "### Grup 5 - AI 2\n",
        "\n",
        "Anggota Kelompok: \n",
        "* Diah Ayu Setyaningsih\n",
        "* I Nyoman Warsana\n",
        "* Iman Santoso"
      ]
    },
    {
      "cell_type": "code",
      "metadata": {
        "id": "cZ7Nhsxxbz7t",
        "colab_type": "code",
        "outputId": "d019be56-0231-4eb6-863b-e29d4d0576b4",
        "colab": {
          "base_uri": "https://localhost:8080/",
          "height": 122
        }
      },
      "source": [
        "from google.colab import drive\n",
        "drive.mount('/content/drive')"
      ],
      "execution_count": 0,
      "outputs": [
        {
          "output_type": "stream",
          "text": [
            "Go to this URL in a browser: https://accounts.google.com/o/oauth2/auth?client_id=947318989803-6bn6qk8qdgf4n4g3pfee6491hc0brc4i.apps.googleusercontent.com&redirect_uri=urn%3Aietf%3Awg%3Aoauth%3A2.0%3Aoob&scope=email%20https%3A%2F%2Fwww.googleapis.com%2Fauth%2Fdocs.test%20https%3A%2F%2Fwww.googleapis.com%2Fauth%2Fdrive%20https%3A%2F%2Fwww.googleapis.com%2Fauth%2Fdrive.photos.readonly%20https%3A%2F%2Fwww.googleapis.com%2Fauth%2Fpeopleapi.readonly&response_type=code\n",
            "\n",
            "Enter your authorization code:\n",
            "··········\n",
            "Mounted at /content/drive\n"
          ],
          "name": "stdout"
        }
      ]
    },
    {
      "cell_type": "code",
      "metadata": {
        "id": "LDTy29dxbSnU",
        "colab_type": "code",
        "colab": {}
      },
      "source": [
        "# dataset\n",
        "url_file = 'https://s3-ap-southeast-1.amazonaws.com/grab-aiforsea-dataset/traffic-management.zip'\n",
        "# !wget url_file"
      ],
      "execution_count": 0,
      "outputs": []
    },
    {
      "cell_type": "code",
      "metadata": {
        "id": "QTNsYbbUlax2",
        "colab_type": "code",
        "colab": {}
      },
      "source": [
        "!cp /content/drive/My\\ Drive/dtsproject/traffic-management.zip /content/traffic-management.zip"
      ],
      "execution_count": 0,
      "outputs": []
    },
    {
      "cell_type": "code",
      "metadata": {
        "id": "m_zE6e1SPWJn",
        "colab_type": "code",
        "outputId": "4a0334cb-87a0-4fc3-940d-3edef18bd0f2",
        "colab": {
          "base_uri": "https://localhost:8080/",
          "height": 239
        }
      },
      "source": [
        "!pip install Geohash\n",
        "!pip install python-geohash"
      ],
      "execution_count": 0,
      "outputs": [
        {
          "output_type": "stream",
          "text": [
            "Collecting Geohash\n",
            "  Downloading https://files.pythonhosted.org/packages/74/84/fa80c5e92854c7456b591f6e797c5be18315994afd3ef16a58694e1b5eb1/Geohash-1.0.tar.gz\n",
            "Requirement already satisfied: docutils>=0.3 in /usr/local/lib/python3.6/dist-packages (from Geohash) (0.14)\n",
            "Building wheels for collected packages: Geohash\n",
            "  Building wheel for Geohash (setup.py) ... \u001b[?25l\u001b[?25hdone\n",
            "  Created wheel for Geohash: filename=Geohash-1.0-cp36-none-any.whl size=15524 sha256=2084eb9755ab3a0051bc2ea221e1048d49ad67e95f338e00588b55e492f55c53\n",
            "  Stored in directory: /root/.cache/pip/wheels/3e/26/1f/e62bf5f16cb87b2e4998d638ca7e019b2d507c691deb17d794\n",
            "Successfully built Geohash\n",
            "Installing collected packages: Geohash\n",
            "Successfully installed Geohash-1.0\n",
            "Requirement already satisfied: python-geohash in /usr/local/lib/python3.6/dist-packages (0.8.5)\n"
          ],
          "name": "stdout"
        }
      ]
    },
    {
      "cell_type": "code",
      "metadata": {
        "id": "MguaSxvp5X1u",
        "colab_type": "code",
        "colab": {}
      },
      "source": [
        "from zipfile import ZipFile\n",
        "from io import BytesIO\n",
        "from urllib.request import urlopen\n",
        "\n",
        "import Geohash\n",
        "import pandas as pd\n",
        "import time\n",
        "import xgboost as xgb\n",
        "import matplotlib.pyplot as plt\n",
        "import seaborn as sns\n",
        "\n",
        "import numpy as np\n",
        "from sklearn.model_selection import train_test_split\n",
        "from sklearn.metrics import mean_absolute_error, mean_squared_error"
      ],
      "execution_count": 0,
      "outputs": []
    },
    {
      "cell_type": "code",
      "metadata": {
        "id": "seCrgyUFb1CQ",
        "colab_type": "code",
        "colab": {}
      },
      "source": [
        "url_open = urlopen(url_file)\n",
        "with ZipFile(BytesIO(url_open.read())) as zip_file:\n",
        "  with zip_file.open('Traffic Management/training.csv') as myfile:\n",
        "    data_df = pd.read_csv(myfile)"
      ],
      "execution_count": 0,
      "outputs": []
    },
    {
      "cell_type": "code",
      "metadata": {
        "id": "Z83nWGFbkj01",
        "colab_type": "code",
        "outputId": "6ef9775f-e5a1-4448-8ba4-6b27d7ccd9a9",
        "colab": {
          "base_uri": "https://localhost:8080/",
          "height": 206
        }
      },
      "source": [
        "data_df.head()"
      ],
      "execution_count": 0,
      "outputs": [
        {
          "output_type": "execute_result",
          "data": {
            "text/html": [
              "<div>\n",
              "<style scoped>\n",
              "    .dataframe tbody tr th:only-of-type {\n",
              "        vertical-align: middle;\n",
              "    }\n",
              "\n",
              "    .dataframe tbody tr th {\n",
              "        vertical-align: top;\n",
              "    }\n",
              "\n",
              "    .dataframe thead th {\n",
              "        text-align: right;\n",
              "    }\n",
              "</style>\n",
              "<table border=\"1\" class=\"dataframe\">\n",
              "  <thead>\n",
              "    <tr style=\"text-align: right;\">\n",
              "      <th></th>\n",
              "      <th>geohash6</th>\n",
              "      <th>day</th>\n",
              "      <th>timestamp</th>\n",
              "      <th>demand</th>\n",
              "    </tr>\n",
              "  </thead>\n",
              "  <tbody>\n",
              "    <tr>\n",
              "      <th>0</th>\n",
              "      <td>qp03wc</td>\n",
              "      <td>18</td>\n",
              "      <td>20:0</td>\n",
              "      <td>0.020072</td>\n",
              "    </tr>\n",
              "    <tr>\n",
              "      <th>1</th>\n",
              "      <td>qp03pn</td>\n",
              "      <td>10</td>\n",
              "      <td>14:30</td>\n",
              "      <td>0.024721</td>\n",
              "    </tr>\n",
              "    <tr>\n",
              "      <th>2</th>\n",
              "      <td>qp09sw</td>\n",
              "      <td>9</td>\n",
              "      <td>6:15</td>\n",
              "      <td>0.102821</td>\n",
              "    </tr>\n",
              "    <tr>\n",
              "      <th>3</th>\n",
              "      <td>qp0991</td>\n",
              "      <td>32</td>\n",
              "      <td>5:0</td>\n",
              "      <td>0.088755</td>\n",
              "    </tr>\n",
              "    <tr>\n",
              "      <th>4</th>\n",
              "      <td>qp090q</td>\n",
              "      <td>15</td>\n",
              "      <td>4:0</td>\n",
              "      <td>0.074468</td>\n",
              "    </tr>\n",
              "  </tbody>\n",
              "</table>\n",
              "</div>"
            ],
            "text/plain": [
              "  geohash6  day timestamp    demand\n",
              "0   qp03wc   18      20:0  0.020072\n",
              "1   qp03pn   10     14:30  0.024721\n",
              "2   qp09sw    9      6:15  0.102821\n",
              "3   qp0991   32       5:0  0.088755\n",
              "4   qp090q   15       4:0  0.074468"
            ]
          },
          "metadata": {
            "tags": []
          },
          "execution_count": 11
        }
      ]
    },
    {
      "cell_type": "code",
      "metadata": {
        "id": "jl2ILJjvC9eh",
        "colab_type": "code",
        "colab": {}
      },
      "source": [
        "# round geohash to decimal points\n",
        "def round3(x):\n",
        "    return round(float(x)*10000)/10000"
      ],
      "execution_count": 0,
      "outputs": []
    },
    {
      "cell_type": "code",
      "metadata": {
        "id": "_G1c7cWjQsbX",
        "colab_type": "code",
        "colab": {}
      },
      "source": [
        "# append latitude and longitude to dataframe\n",
        "data_df['latitude'] = data_df.apply(lambda x: round3(Geohash.decode_exactly(x['geohash6'])[0]), axis=1)\n",
        "data_df['longitude'] = data_df.apply(lambda x: round3(Geohash.decode_exactly(x['geohash6'])[1]), axis=1)"
      ],
      "execution_count": 0,
      "outputs": []
    },
    {
      "cell_type": "code",
      "metadata": {
        "id": "gOSjTL5ZTwrX",
        "colab_type": "code",
        "outputId": "8e583dc8-6c9e-4b71-beab-1bba272596a8",
        "colab": {
          "base_uri": "https://localhost:8080/",
          "height": 206
        }
      },
      "source": [
        "data_df.head()"
      ],
      "execution_count": 0,
      "outputs": [
        {
          "output_type": "execute_result",
          "data": {
            "text/html": [
              "<div>\n",
              "<style scoped>\n",
              "    .dataframe tbody tr th:only-of-type {\n",
              "        vertical-align: middle;\n",
              "    }\n",
              "\n",
              "    .dataframe tbody tr th {\n",
              "        vertical-align: top;\n",
              "    }\n",
              "\n",
              "    .dataframe thead th {\n",
              "        text-align: right;\n",
              "    }\n",
              "</style>\n",
              "<table border=\"1\" class=\"dataframe\">\n",
              "  <thead>\n",
              "    <tr style=\"text-align: right;\">\n",
              "      <th></th>\n",
              "      <th>geohash6</th>\n",
              "      <th>day</th>\n",
              "      <th>timestamp</th>\n",
              "      <th>demand</th>\n",
              "      <th>latitude</th>\n",
              "      <th>longitude</th>\n",
              "    </tr>\n",
              "  </thead>\n",
              "  <tbody>\n",
              "    <tr>\n",
              "      <th>0</th>\n",
              "      <td>qp03wc</td>\n",
              "      <td>18</td>\n",
              "      <td>20:0</td>\n",
              "      <td>0.020072</td>\n",
              "      <td>-5.3531</td>\n",
              "      <td>90.6537</td>\n",
              "    </tr>\n",
              "    <tr>\n",
              "      <th>1</th>\n",
              "      <td>qp03pn</td>\n",
              "      <td>10</td>\n",
              "      <td>14:30</td>\n",
              "      <td>0.024721</td>\n",
              "      <td>-5.4135</td>\n",
              "      <td>90.6647</td>\n",
              "    </tr>\n",
              "    <tr>\n",
              "      <th>2</th>\n",
              "      <td>qp09sw</td>\n",
              "      <td>9</td>\n",
              "      <td>6:15</td>\n",
              "      <td>0.102821</td>\n",
              "      <td>-5.3256</td>\n",
              "      <td>90.9064</td>\n",
              "    </tr>\n",
              "    <tr>\n",
              "      <th>3</th>\n",
              "      <td>qp0991</td>\n",
              "      <td>32</td>\n",
              "      <td>5:0</td>\n",
              "      <td>0.088755</td>\n",
              "      <td>-5.3531</td>\n",
              "      <td>90.7526</td>\n",
              "    </tr>\n",
              "    <tr>\n",
              "      <th>4</th>\n",
              "      <td>qp090q</td>\n",
              "      <td>15</td>\n",
              "      <td>4:0</td>\n",
              "      <td>0.074468</td>\n",
              "      <td>-5.4135</td>\n",
              "      <td>90.7196</td>\n",
              "    </tr>\n",
              "  </tbody>\n",
              "</table>\n",
              "</div>"
            ],
            "text/plain": [
              "  geohash6  day timestamp    demand  latitude  longitude\n",
              "0   qp03wc   18      20:0  0.020072   -5.3531    90.6537\n",
              "1   qp03pn   10     14:30  0.024721   -5.4135    90.6647\n",
              "2   qp09sw    9      6:15  0.102821   -5.3256    90.9064\n",
              "3   qp0991   32       5:0  0.088755   -5.3531    90.7526\n",
              "4   qp090q   15       4:0  0.074468   -5.4135    90.7196"
            ]
          },
          "metadata": {
            "tags": []
          },
          "execution_count": 14
        }
      ]
    },
    {
      "cell_type": "code",
      "metadata": {
        "id": "RMG6Z7YTTSzq",
        "colab_type": "code",
        "outputId": "ad700945-0ea7-4af9-9c3f-30878940556a",
        "colab": {
          "base_uri": "https://localhost:8080/",
          "height": 206
        }
      },
      "source": [
        "# split timestamp to hours and minute\n",
        "data_df['hour'] = data_df.apply(lambda x: float(x['timestamp'].split(':')[0]), axis=1)\n",
        "data_df['minute'] = data_df.apply(lambda x: float(x['timestamp'].split(':')[1]), axis= 1)\n",
        "\n",
        "data_df.head()"
      ],
      "execution_count": 0,
      "outputs": [
        {
          "output_type": "execute_result",
          "data": {
            "text/html": [
              "<div>\n",
              "<style scoped>\n",
              "    .dataframe tbody tr th:only-of-type {\n",
              "        vertical-align: middle;\n",
              "    }\n",
              "\n",
              "    .dataframe tbody tr th {\n",
              "        vertical-align: top;\n",
              "    }\n",
              "\n",
              "    .dataframe thead th {\n",
              "        text-align: right;\n",
              "    }\n",
              "</style>\n",
              "<table border=\"1\" class=\"dataframe\">\n",
              "  <thead>\n",
              "    <tr style=\"text-align: right;\">\n",
              "      <th></th>\n",
              "      <th>geohash6</th>\n",
              "      <th>day</th>\n",
              "      <th>timestamp</th>\n",
              "      <th>demand</th>\n",
              "      <th>latitude</th>\n",
              "      <th>longitude</th>\n",
              "      <th>hour</th>\n",
              "      <th>minute</th>\n",
              "    </tr>\n",
              "  </thead>\n",
              "  <tbody>\n",
              "    <tr>\n",
              "      <th>0</th>\n",
              "      <td>qp03wc</td>\n",
              "      <td>18</td>\n",
              "      <td>20:0</td>\n",
              "      <td>0.020072</td>\n",
              "      <td>-5.3531</td>\n",
              "      <td>90.6537</td>\n",
              "      <td>20.0</td>\n",
              "      <td>0.0</td>\n",
              "    </tr>\n",
              "    <tr>\n",
              "      <th>1</th>\n",
              "      <td>qp03pn</td>\n",
              "      <td>10</td>\n",
              "      <td>14:30</td>\n",
              "      <td>0.024721</td>\n",
              "      <td>-5.4135</td>\n",
              "      <td>90.6647</td>\n",
              "      <td>14.0</td>\n",
              "      <td>30.0</td>\n",
              "    </tr>\n",
              "    <tr>\n",
              "      <th>2</th>\n",
              "      <td>qp09sw</td>\n",
              "      <td>9</td>\n",
              "      <td>6:15</td>\n",
              "      <td>0.102821</td>\n",
              "      <td>-5.3256</td>\n",
              "      <td>90.9064</td>\n",
              "      <td>6.0</td>\n",
              "      <td>15.0</td>\n",
              "    </tr>\n",
              "    <tr>\n",
              "      <th>3</th>\n",
              "      <td>qp0991</td>\n",
              "      <td>32</td>\n",
              "      <td>5:0</td>\n",
              "      <td>0.088755</td>\n",
              "      <td>-5.3531</td>\n",
              "      <td>90.7526</td>\n",
              "      <td>5.0</td>\n",
              "      <td>0.0</td>\n",
              "    </tr>\n",
              "    <tr>\n",
              "      <th>4</th>\n",
              "      <td>qp090q</td>\n",
              "      <td>15</td>\n",
              "      <td>4:0</td>\n",
              "      <td>0.074468</td>\n",
              "      <td>-5.4135</td>\n",
              "      <td>90.7196</td>\n",
              "      <td>4.0</td>\n",
              "      <td>0.0</td>\n",
              "    </tr>\n",
              "  </tbody>\n",
              "</table>\n",
              "</div>"
            ],
            "text/plain": [
              "  geohash6  day timestamp    demand  latitude  longitude  hour  minute\n",
              "0   qp03wc   18      20:0  0.020072   -5.3531    90.6537  20.0     0.0\n",
              "1   qp03pn   10     14:30  0.024721   -5.4135    90.6647  14.0    30.0\n",
              "2   qp09sw    9      6:15  0.102821   -5.3256    90.9064   6.0    15.0\n",
              "3   qp0991   32       5:0  0.088755   -5.3531    90.7526   5.0     0.0\n",
              "4   qp090q   15       4:0  0.074468   -5.4135    90.7196   4.0     0.0"
            ]
          },
          "metadata": {
            "tags": []
          },
          "execution_count": 15
        }
      ]
    },
    {
      "cell_type": "code",
      "metadata": {
        "id": "8gAmLKwuSRZJ",
        "colab_type": "code",
        "outputId": "f536164f-879b-48c3-b751-d0e9d55466c5",
        "colab": {
          "base_uri": "https://localhost:8080/",
          "height": 206
        }
      },
      "source": [
        "# add information day of week user's usage\n",
        "data_df['day of week'] = data_df.apply(lambda x: x['day']%7, axis =1)\n",
        "\n",
        "data_df.head()"
      ],
      "execution_count": 0,
      "outputs": [
        {
          "output_type": "execute_result",
          "data": {
            "text/html": [
              "<div>\n",
              "<style scoped>\n",
              "    .dataframe tbody tr th:only-of-type {\n",
              "        vertical-align: middle;\n",
              "    }\n",
              "\n",
              "    .dataframe tbody tr th {\n",
              "        vertical-align: top;\n",
              "    }\n",
              "\n",
              "    .dataframe thead th {\n",
              "        text-align: right;\n",
              "    }\n",
              "</style>\n",
              "<table border=\"1\" class=\"dataframe\">\n",
              "  <thead>\n",
              "    <tr style=\"text-align: right;\">\n",
              "      <th></th>\n",
              "      <th>geohash6</th>\n",
              "      <th>day</th>\n",
              "      <th>timestamp</th>\n",
              "      <th>demand</th>\n",
              "      <th>latitude</th>\n",
              "      <th>longitude</th>\n",
              "      <th>hour</th>\n",
              "      <th>minute</th>\n",
              "      <th>day of week</th>\n",
              "    </tr>\n",
              "  </thead>\n",
              "  <tbody>\n",
              "    <tr>\n",
              "      <th>0</th>\n",
              "      <td>qp03wc</td>\n",
              "      <td>18</td>\n",
              "      <td>20:0</td>\n",
              "      <td>0.020072</td>\n",
              "      <td>-5.3531</td>\n",
              "      <td>90.6537</td>\n",
              "      <td>20.0</td>\n",
              "      <td>0.0</td>\n",
              "      <td>4</td>\n",
              "    </tr>\n",
              "    <tr>\n",
              "      <th>1</th>\n",
              "      <td>qp03pn</td>\n",
              "      <td>10</td>\n",
              "      <td>14:30</td>\n",
              "      <td>0.024721</td>\n",
              "      <td>-5.4135</td>\n",
              "      <td>90.6647</td>\n",
              "      <td>14.0</td>\n",
              "      <td>30.0</td>\n",
              "      <td>3</td>\n",
              "    </tr>\n",
              "    <tr>\n",
              "      <th>2</th>\n",
              "      <td>qp09sw</td>\n",
              "      <td>9</td>\n",
              "      <td>6:15</td>\n",
              "      <td>0.102821</td>\n",
              "      <td>-5.3256</td>\n",
              "      <td>90.9064</td>\n",
              "      <td>6.0</td>\n",
              "      <td>15.0</td>\n",
              "      <td>2</td>\n",
              "    </tr>\n",
              "    <tr>\n",
              "      <th>3</th>\n",
              "      <td>qp0991</td>\n",
              "      <td>32</td>\n",
              "      <td>5:0</td>\n",
              "      <td>0.088755</td>\n",
              "      <td>-5.3531</td>\n",
              "      <td>90.7526</td>\n",
              "      <td>5.0</td>\n",
              "      <td>0.0</td>\n",
              "      <td>4</td>\n",
              "    </tr>\n",
              "    <tr>\n",
              "      <th>4</th>\n",
              "      <td>qp090q</td>\n",
              "      <td>15</td>\n",
              "      <td>4:0</td>\n",
              "      <td>0.074468</td>\n",
              "      <td>-5.4135</td>\n",
              "      <td>90.7196</td>\n",
              "      <td>4.0</td>\n",
              "      <td>0.0</td>\n",
              "      <td>1</td>\n",
              "    </tr>\n",
              "  </tbody>\n",
              "</table>\n",
              "</div>"
            ],
            "text/plain": [
              "  geohash6  day timestamp    demand  ...  longitude  hour  minute  day of week\n",
              "0   qp03wc   18      20:0  0.020072  ...    90.6537  20.0     0.0            4\n",
              "1   qp03pn   10     14:30  0.024721  ...    90.6647  14.0    30.0            3\n",
              "2   qp09sw    9      6:15  0.102821  ...    90.9064   6.0    15.0            2\n",
              "3   qp0991   32       5:0  0.088755  ...    90.7526   5.0     0.0            4\n",
              "4   qp090q   15       4:0  0.074468  ...    90.7196   4.0     0.0            1\n",
              "\n",
              "[5 rows x 9 columns]"
            ]
          },
          "metadata": {
            "tags": []
          },
          "execution_count": 16
        }
      ]
    },
    {
      "cell_type": "code",
      "metadata": {
        "id": "sXbtP7WIVX23",
        "colab_type": "code",
        "outputId": "8dded289-8e1a-47b3-ae29-104ba6b4842e",
        "colab": {
          "base_uri": "https://localhost:8080/",
          "height": 274
        }
      },
      "source": [
        "data_df.info()"
      ],
      "execution_count": 0,
      "outputs": [
        {
          "output_type": "stream",
          "text": [
            "<class 'pandas.core.frame.DataFrame'>\n",
            "RangeIndex: 4206321 entries, 0 to 4206320\n",
            "Data columns (total 9 columns):\n",
            "geohash6       object\n",
            "day            int64\n",
            "timestamp      object\n",
            "demand         float64\n",
            "latitude       float64\n",
            "longitude      float64\n",
            "hour           float64\n",
            "minute         float64\n",
            "day of week    int64\n",
            "dtypes: float64(5), int64(2), object(2)\n",
            "memory usage: 288.8+ MB\n"
          ],
          "name": "stdout"
        }
      ]
    },
    {
      "cell_type": "code",
      "metadata": {
        "id": "3qYzVi4wVhbi",
        "colab_type": "code",
        "outputId": "cf821e3a-e5a0-4e21-8ddf-e97de9747c3c",
        "colab": {
          "base_uri": "https://localhost:8080/",
          "height": 164
        }
      },
      "source": [
        "# demand correlation\n",
        "data_df.corr()['demand']"
      ],
      "execution_count": 0,
      "outputs": [
        {
          "output_type": "execute_result",
          "data": {
            "text/plain": [
              "day            0.023643\n",
              "demand         1.000000\n",
              "latitude      -0.021716\n",
              "longitude     -0.032423\n",
              "hour          -0.085078\n",
              "minute        -0.002702\n",
              "day of week   -0.022668\n",
              "Name: demand, dtype: float64"
            ]
          },
          "metadata": {
            "tags": []
          },
          "execution_count": 18
        }
      ]
    },
    {
      "cell_type": "code",
      "metadata": {
        "id": "LepIYSZdVsI7",
        "colab_type": "code",
        "outputId": "c0603e14-d8a2-44db-eb01-feb5969bcc70",
        "colab": {
          "base_uri": "https://localhost:8080/",
          "height": 300
        }
      },
      "source": [
        "# plot between demand and hour\n",
        "sns.lineplot(data=data_df, x='hour', y='demand')"
      ],
      "execution_count": 0,
      "outputs": [
        {
          "output_type": "execute_result",
          "data": {
            "text/plain": [
              "<matplotlib.axes._subplots.AxesSubplot at 0x7f4bb254bc88>"
            ]
          },
          "metadata": {
            "tags": []
          },
          "execution_count": 80
        },
        {
          "output_type": "display_data",
          "data": {
            "image/png": "[encoded data removed]",
            "text/plain": [
              "<Figure size 432x288 with 1 Axes>"
            ]
          },
          "metadata": {
            "tags": []
          }
        }
      ]
    },
    {
      "cell_type": "code",
      "metadata": {
        "id": "l0albuIVXHcC",
        "colab_type": "code",
        "outputId": "ed6d7abc-4d2b-4240-a178-209782fcf851",
        "colab": {
          "base_uri": "https://localhost:8080/",
          "height": 300
        }
      },
      "source": [
        "# plot demand and day of week\n",
        "sns.lineplot(data=data_df, x='day of week', y='demand')"
      ],
      "execution_count": 0,
      "outputs": [
        {
          "output_type": "execute_result",
          "data": {
            "text/plain": [
              "<matplotlib.axes._subplots.AxesSubplot at 0x7f4bb20053c8>"
            ]
          },
          "metadata": {
            "tags": []
          },
          "execution_count": 81
        },
        {
          "output_type": "display_data",
          "data": {
            "image/png": "[encoded data removed]",
            "text/plain": [
              "<Figure size 432x288 with 1 Axes>"
            ]
          },
          "metadata": {
            "tags": []
          }
        }
      ]
    },
    {
      "cell_type": "code",
      "metadata": {
        "id": "1OQzwelgZHV4",
        "colab_type": "code",
        "outputId": "5a726912-5f42-4180-9482-8c943d88f144",
        "colab": {
          "base_uri": "https://localhost:8080/",
          "height": 300
        }
      },
      "source": [
        "# plot demand and latitude\n",
        "sns.lineplot(data=data_df, x='latitude', y='demand')"
      ],
      "execution_count": 0,
      "outputs": [
        {
          "output_type": "execute_result",
          "data": {
            "text/plain": [
              "<matplotlib.axes._subplots.AxesSubplot at 0x7f4b8e3433c8>"
            ]
          },
          "metadata": {
            "tags": []
          },
          "execution_count": 85
        },
        {
          "output_type": "display_data",
          "data": {
            "image/png": "[encoded data removed]",
            "text/plain": [
              "<Figure size 432x288 with 1 Axes>"
            ]
          },
          "metadata": {
            "tags": []
          }
        }
      ]
    },
    {
      "cell_type": "code",
      "metadata": {
        "id": "-RyTOIYAZT6s",
        "colab_type": "code",
        "outputId": "7a186071-405e-46cb-c7dd-98ac61de04a9",
        "colab": {
          "base_uri": "https://localhost:8080/",
          "height": 300
        }
      },
      "source": [
        "# plot demand and longitude\n",
        "sns.lineplot(data=data_df, x='longitude', y='demand')"
      ],
      "execution_count": 0,
      "outputs": [
        {
          "output_type": "execute_result",
          "data": {
            "text/plain": [
              "<matplotlib.axes._subplots.AxesSubplot at 0x7f4b94139a58>"
            ]
          },
          "metadata": {
            "tags": []
          },
          "execution_count": 86
        },
        {
          "output_type": "display_data",
          "data": {
            "image/png": "[encoded data removed]",
            "text/plain": [
              "<Figure size 432x288 with 1 Axes>"
            ]
          },
          "metadata": {
            "tags": []
          }
        }
      ]
    },
    {
      "cell_type": "code",
      "metadata": {
        "id": "UrfZPQS7XRnn",
        "colab_type": "code",
        "outputId": "059fd880-58e6-4aac-b25f-147f35645ed9",
        "colab": {
          "base_uri": "https://localhost:8080/",
          "height": 300
        }
      },
      "source": [
        "# plot between demand and user's location\n",
        "sns.scatterplot(data=data_df, x='longitude', y='latitude', hue='demand')"
      ],
      "execution_count": 0,
      "outputs": [
        {
          "output_type": "execute_result",
          "data": {
            "text/plain": [
              "<matplotlib.axes._subplots.AxesSubplot at 0x7f4bccef0c18>"
            ]
          },
          "metadata": {
            "tags": []
          },
          "execution_count": 84
        },
        {
          "output_type": "display_data",
          "data": {
            "image/png": "[encoded data removed]",
            "text/plain": [
              "<Figure size 432x288 with 1 Axes>"
            ]
          },
          "metadata": {
            "tags": []
          }
        }
      ]
    },
    {
      "cell_type": "code",
      "metadata": {
        "id": "HuHmHYOSZgaD",
        "colab_type": "code",
        "outputId": "59180817-d6aa-4aa6-a152-75a72fc74174",
        "colab": {
          "base_uri": "https://localhost:8080/",
          "height": 300
        }
      },
      "source": [
        "# plot demand and minute\n",
        "sns.lineplot(data=data_df, x='minute', y='demand')"
      ],
      "execution_count": 0,
      "outputs": [
        {
          "output_type": "execute_result",
          "data": {
            "text/plain": [
              "<matplotlib.axes._subplots.AxesSubplot at 0x7f4b8e2e0e10>"
            ]
          },
          "metadata": {
            "tags": []
          },
          "execution_count": 87
        },
        {
          "output_type": "display_data",
          "data": {
            "image/png": "[encoded data removed]",
            "text/plain": [
              "<Figure size 432x288 with 1 Axes>"
            ]
          },
          "metadata": {
            "tags": []
          }
        }
      ]
    },
    {
      "cell_type": "code",
      "metadata": {
        "id": "ZetSuPllYEmG",
        "colab_type": "code",
        "colab": {}
      },
      "source": [
        "selected_column = ['latitude', 'longitude', 'hour', 'day of week']"
      ],
      "execution_count": 0,
      "outputs": []
    },
    {
      "cell_type": "code",
      "metadata": {
        "id": "0_YstjBYdIdb",
        "colab_type": "code",
        "colab": {}
      },
      "source": [
        "# Regression Model\n",
        "regressor = xgb.XGBRegressor(learning_rate=0.01, max_depth=25, n_estimators=240, tree_method='gpu_hist')"
      ],
      "execution_count": 0,
      "outputs": []
    },
    {
      "cell_type": "code",
      "metadata": {
        "id": "emq7xwkEc7DP",
        "colab_type": "code",
        "colab": {}
      },
      "source": [
        "df_train, df_test = train_test_split(data_df, test_size=0.2)"
      ],
      "execution_count": 0,
      "outputs": []
    },
    {
      "cell_type": "code",
      "metadata": {
        "id": "ln-JGEavdXIZ",
        "colab_type": "code",
        "outputId": "65cd1920-fc33-45a6-c58c-112ae3565124",
        "colab": {
          "base_uri": "https://localhost:8080/",
          "height": 147
        }
      },
      "source": [
        "regressor.fit(X=df_train[selected_column], y=df_train['demand'])"
      ],
      "execution_count": 0,
      "outputs": [
        {
          "output_type": "stream",
          "text": [
            "/usr/local/lib/python3.6/dist-packages/xgboost/core.py:587: FutureWarning: Series.base is deprecated and will be removed in a future version\n",
            "  if getattr(data, 'base', None) is not None and \\\n",
            "/usr/local/lib/python3.6/dist-packages/xgboost/core.py:588: FutureWarning: Series.base is deprecated and will be removed in a future version\n",
            "  data.base is not None and isinstance(data, np.ndarray) \\\n"
          ],
          "name": "stderr"
        },
        {
          "output_type": "stream",
          "text": [
            "[16:29:31] WARNING: /workspace/src/objective/regression_obj.cu:152: reg:linear is now deprecated in favor of reg:squarederror.\n",
            "Training time:  453.958922624588\n"
          ],
          "name": "stdout"
        }
      ]
    },
    {
      "cell_type": "code",
      "metadata": {
        "id": "fN9WkHDcdo-5",
        "colab_type": "code",
        "outputId": "10ea65de-90f1-4535-dae1-46ee66e48f4f",
        "colab": {
          "base_uri": "https://localhost:8080/",
          "height": 147
        }
      },
      "source": [
        "df_test['predict'] = regressor.predict(data=df_test[selected_column])"
      ],
      "execution_count": 0,
      "outputs": [
        {
          "output_type": "stream",
          "text": [
            "/usr/local/lib/python3.6/dist-packages/ipykernel_launcher.py:1: SettingWithCopyWarning: \n",
            "A value is trying to be set on a copy of a slice from a DataFrame.\n",
            "Try using .loc[row_indexer,col_indexer] = value instead\n",
            "\n",
            "See the caveats in the documentation: http://pandas.pydata.org/pandas-docs/stable/indexing.html#indexing-view-versus-copy\n",
            "  \"\"\"Entry point for launching an IPython kernel.\n"
          ],
          "name": "stderr"
        }
      ]
    },
    {
      "cell_type": "code",
      "metadata": {
        "id": "qsmGS4spd9Cq",
        "colab_type": "code",
        "outputId": "8a0220ee-4f56-4781-ddc5-e75bcf55867a",
        "colab": {
          "base_uri": "https://localhost:8080/",
          "height": 72
        }
      },
      "source": [
        "# mean absolute error\n",
        "print(\"Mean Absolute Error : \", mean_absolute_error(df_test['demand'], df_test['predict']))\n",
        "\n",
        "# root mean square error\n",
        "print(\"Root Mean Square Error : \", np.sqrt(mean_squared_error(df_test['demand'], df_test['predict'])))\n",
        "\n",
        "# symmetric mean absolute percentage error\n",
        "def smape(predict, target):\n",
        "    return 100/len(predict) * np.sum(2 * np.abs(target - predict) / (np.abs(predict) + np.abs(target)))\n",
        "print(\"Symmetric Mean Absolute Percentage Error : \", smape(df_test['demand'], df_test['predict']))"
      ],
      "execution_count": 0,
      "outputs": [
        {
          "output_type": "stream",
          "text": [
            "Mean Absolute Error :  0.050032177321762225\n",
            "Root Mean Square Error :  0.06276733824028453\n",
            "Symmetric Mean Absolute Percentage Error :  73.8974439300374\n"
          ],
          "name": "stdout"
        }
      ]
    },
    {
      "cell_type": "code",
      "metadata": {
        "id": "zKZ-4jg2iBlv",
        "colab_type": "code",
        "outputId": "99c0f7a2-730e-43bf-fcad-5e7c44324a61",
        "colab": {
          "base_uri": "https://localhost:8080/",
          "height": 363
        }
      },
      "source": [
        "df_test.head(10)"
      ],
      "execution_count": 0,
      "outputs": [
        {
          "output_type": "execute_result",
          "data": {
            "text/html": [
              "<div>\n",
              "<style scoped>\n",
              "    .dataframe tbody tr th:only-of-type {\n",
              "        vertical-align: middle;\n",
              "    }\n",
              "\n",
              "    .dataframe tbody tr th {\n",
              "        vertical-align: top;\n",
              "    }\n",
              "\n",
              "    .dataframe thead th {\n",
              "        text-align: right;\n",
              "    }\n",
              "</style>\n",
              "<table border=\"1\" class=\"dataframe\">\n",
              "  <thead>\n",
              "    <tr style=\"text-align: right;\">\n",
              "      <th></th>\n",
              "      <th>geohash6</th>\n",
              "      <th>day</th>\n",
              "      <th>timestamp</th>\n",
              "      <th>demand</th>\n",
              "      <th>latitude</th>\n",
              "      <th>longitude</th>\n",
              "      <th>hour</th>\n",
              "      <th>minute</th>\n",
              "      <th>day of week</th>\n",
              "      <th>predict</th>\n",
              "    </tr>\n",
              "  </thead>\n",
              "  <tbody>\n",
              "    <tr>\n",
              "      <th>2569188</th>\n",
              "      <td>qp09gk</td>\n",
              "      <td>58</td>\n",
              "      <td>12:0</td>\n",
              "      <td>0.274516</td>\n",
              "      <td>-5.2927</td>\n",
              "      <td>90.8514</td>\n",
              "      <td>12.0</td>\n",
              "      <td>0.0</td>\n",
              "      <td>2</td>\n",
              "      <td>0.237785</td>\n",
              "    </tr>\n",
              "    <tr>\n",
              "      <th>2768678</th>\n",
              "      <td>qp0d52</td>\n",
              "      <td>32</td>\n",
              "      <td>16:15</td>\n",
              "      <td>0.029285</td>\n",
              "      <td>-5.2707</td>\n",
              "      <td>90.8514</td>\n",
              "      <td>16.0</td>\n",
              "      <td>15.0</td>\n",
              "      <td>4</td>\n",
              "      <td>0.071037</td>\n",
              "    </tr>\n",
              "    <tr>\n",
              "      <th>1482722</th>\n",
              "      <td>qp09t4</td>\n",
              "      <td>57</td>\n",
              "      <td>7:45</td>\n",
              "      <td>0.053720</td>\n",
              "      <td>-5.3476</td>\n",
              "      <td>90.9283</td>\n",
              "      <td>7.0</td>\n",
              "      <td>45.0</td>\n",
              "      <td>1</td>\n",
              "      <td>0.118467</td>\n",
              "    </tr>\n",
              "    <tr>\n",
              "      <th>1729898</th>\n",
              "      <td>qp03w4</td>\n",
              "      <td>41</td>\n",
              "      <td>13:30</td>\n",
              "      <td>0.000747</td>\n",
              "      <td>-5.3476</td>\n",
              "      <td>90.6207</td>\n",
              "      <td>13.0</td>\n",
              "      <td>30.0</td>\n",
              "      <td>6</td>\n",
              "      <td>0.081884</td>\n",
              "    </tr>\n",
              "    <tr>\n",
              "      <th>3749005</th>\n",
              "      <td>qp03xq</td>\n",
              "      <td>35</td>\n",
              "      <td>18:30</td>\n",
              "      <td>0.058118</td>\n",
              "      <td>-5.3256</td>\n",
              "      <td>90.6757</td>\n",
              "      <td>18.0</td>\n",
              "      <td>30.0</td>\n",
              "      <td>0</td>\n",
              "      <td>0.101481</td>\n",
              "    </tr>\n",
              "    <tr>\n",
              "      <th>624463</th>\n",
              "      <td>qp03ww</td>\n",
              "      <td>16</td>\n",
              "      <td>20:30</td>\n",
              "      <td>0.015508</td>\n",
              "      <td>-5.3256</td>\n",
              "      <td>90.6427</td>\n",
              "      <td>20.0</td>\n",
              "      <td>30.0</td>\n",
              "      <td>2</td>\n",
              "      <td>0.061399</td>\n",
              "    </tr>\n",
              "    <tr>\n",
              "      <th>4136624</th>\n",
              "      <td>qp03ys</td>\n",
              "      <td>33</td>\n",
              "      <td>19:15</td>\n",
              "      <td>0.002117</td>\n",
              "      <td>-5.2927</td>\n",
              "      <td>90.6427</td>\n",
              "      <td>19.0</td>\n",
              "      <td>15.0</td>\n",
              "      <td>5</td>\n",
              "      <td>0.062480</td>\n",
              "    </tr>\n",
              "    <tr>\n",
              "      <th>2206818</th>\n",
              "      <td>qp03pw</td>\n",
              "      <td>23</td>\n",
              "      <td>6:45</td>\n",
              "      <td>0.034027</td>\n",
              "      <td>-5.4135</td>\n",
              "      <td>90.6866</td>\n",
              "      <td>6.0</td>\n",
              "      <td>45.0</td>\n",
              "      <td>2</td>\n",
              "      <td>0.075854</td>\n",
              "    </tr>\n",
              "    <tr>\n",
              "      <th>994448</th>\n",
              "      <td>qp06p5</td>\n",
              "      <td>3</td>\n",
              "      <td>7:0</td>\n",
              "      <td>0.101130</td>\n",
              "      <td>-5.2542</td>\n",
              "      <td>90.6647</td>\n",
              "      <td>7.0</td>\n",
              "      <td>0.0</td>\n",
              "      <td>3</td>\n",
              "      <td>0.136343</td>\n",
              "    </tr>\n",
              "    <tr>\n",
              "      <th>3511934</th>\n",
              "      <td>qp03x7</td>\n",
              "      <td>30</td>\n",
              "      <td>10:45</td>\n",
              "      <td>0.136025</td>\n",
              "      <td>-5.3421</td>\n",
              "      <td>90.6757</td>\n",
              "      <td>10.0</td>\n",
              "      <td>45.0</td>\n",
              "      <td>2</td>\n",
              "      <td>0.216554</td>\n",
              "    </tr>\n",
              "  </tbody>\n",
              "</table>\n",
              "</div>"
            ],
            "text/plain": [
              "        geohash6  day timestamp    demand  ...  hour  minute  day of week   predict\n",
              "2569188   qp09gk   58      12:0  0.274516  ...  12.0     0.0            2  0.237785\n",
              "2768678   qp0d52   32     16:15  0.029285  ...  16.0    15.0            4  0.071037\n",
              "1482722   qp09t4   57      7:45  0.053720  ...   7.0    45.0            1  0.118467\n",
              "1729898   qp03w4   41     13:30  0.000747  ...  13.0    30.0            6  0.081884\n",
              "3749005   qp03xq   35     18:30  0.058118  ...  18.0    30.0            0  0.101481\n",
              "624463    qp03ww   16     20:30  0.015508  ...  20.0    30.0            2  0.061399\n",
              "4136624   qp03ys   33     19:15  0.002117  ...  19.0    15.0            5  0.062480\n",
              "2206818   qp03pw   23      6:45  0.034027  ...   6.0    45.0            2  0.075854\n",
              "994448    qp06p5    3       7:0  0.101130  ...   7.0     0.0            3  0.136343\n",
              "3511934   qp03x7   30     10:45  0.136025  ...  10.0    45.0            2  0.216554\n",
              "\n",
              "[10 rows x 10 columns]"
            ]
          },
          "metadata": {
            "tags": []
          },
          "execution_count": 26
        }
      ]
    },
    {
      "cell_type": "code",
      "metadata": {
        "id": "RincAJiPtClO",
        "colab_type": "code",
        "colab": {}
      },
      "source": [
        "regressor.save_model('xgbregressor.model')"
      ],
      "execution_count": 0,
      "outputs": []
    },
    {
      "cell_type": "code",
      "metadata": {
        "id": "im9WuOlftNUG",
        "colab_type": "code",
        "colab": {}
      },
      "source": [
        "def predict_demand(model, geohash6='qp06p5', day=30, timestamp='6:30'):\n",
        "    \n",
        "    import pandas as pd\n",
        "\n",
        "    import Geohash\n",
        "    \n",
        "    def round3(x):\n",
        "        return round(float(x)*10000)/10000\n",
        "    \n",
        "    \n",
        "    latitude = round3(Geohash.decode_exactly(geohash6)[0])\n",
        "    longitude = round3(Geohash.decode_exactly(geohash6)[1])\n",
        "    \n",
        "    hour = float(timestamp.split(':')[0])\n",
        "    \n",
        "    day_of_week = day%7\n",
        "    \n",
        "    df_predict = pd.DataFrame({'latitude': [latitude], 'longitude': [longitude], 'hour': [hour], 'day of week': [day_of_week] })\n",
        "    \n",
        "    output_predict = model.predict(df_predict)\n",
        "    \n",
        "    return output_predict[0]"
      ],
      "execution_count": 0,
      "outputs": []
    },
    {
      "cell_type": "code",
      "metadata": {
        "id": "j-oXNx5nugkb",
        "colab_type": "code",
        "outputId": "479be4ad-239c-4bcc-bb95-84e139a50640",
        "colab": {
          "base_uri": "https://localhost:8080/",
          "height": 74
        }
      },
      "source": [
        "# Trying to predict\n",
        "model = xgb.XGBRegressor()\n",
        "model.load_model('xgbregressor.model')\n",
        "\n",
        "predict_demand(model, geohash6='qp03w4', day=52, timestamp='16:0')"
      ],
      "execution_count": 0,
      "outputs": [
        {
          "output_type": "stream",
          "text": [
            "[16:56:47] WARNING: /workspace/src/objective/regression_obj.cu:152: reg:linear is now deprecated in favor of reg:squarederror.\n"
          ],
          "name": "stdout"
        },
        {
          "output_type": "execute_result",
          "data": {
            "text/plain": [
              "0.06727305"
            ]
          },
          "metadata": {
            "tags": []
          },
          "execution_count": 45
        }
      ]
    },
    {
      "cell_type": "code",
      "metadata": {
        "id": "M0szGbhlwsVI",
        "colab_type": "code",
        "colab": {}
      },
      "source": [
        ""
      ],
      "execution_count": 0,
      "outputs": []
    }
  ]
}